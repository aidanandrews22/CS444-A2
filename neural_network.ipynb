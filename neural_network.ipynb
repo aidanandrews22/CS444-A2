{
 "cells": [
  {
   "cell_type": "markdown",
   "metadata": {
    "id": "O452YP5gcoTh"
   },
   "source": [
    "# Assignment 2\n",
    "\n",
    "In this assignment you will create a coordinate-based multilayer perceptron in numpy from scratch. For each input image coordinate $(x,y)$, the model predicts the associated color $(r,g,b)$.\n",
    "\n",
    "![Network diagram](https://user-images.githubusercontent.com/3310961/85066930-ad444580-b164-11ea-9cc0-17494679e71f.png)\n",
    "\n",
    "You will then compare the following input feature mappings $\\gamma (\\mathbf{v})$.\n",
    "\n",
    "- No mapping: $\\gamma(\\mathbf{v})= \\mathbf{v}$.\n",
    "\n",
    "- Basic mapping: $\\gamma(\\mathbf{v})=\\left[ \\cos(2 \\pi \\mathbf{v}),\\sin(2 \\pi \\mathbf{v}) \\right]^\\mathrm{T}$.\n",
    "\n",
    "- Gaussian Fourier feature mapping: $\\gamma(\\mathbf{v})= \\left[ \\cos(2 \\pi \\mathbf B \\mathbf{v}), \\sin(2 \\pi \\mathbf B \\mathbf{v}) \\right]^\\mathrm{T}$,\n",
    "where each entry in $\\mathbf B \\in \\mathbb R^{m \\times d}$ is sampled from $\\mathcal N(0,\\sigma^2)$.\n",
    "\n",
    "Some notes to help you with that:\n",
    "\n",
    "- You will implement the mappings in the helper functions `get_B_dict` and `input_mapping`.\n",
    "- The basic mapping can be considered a case where $\\mathbf B \\in \\mathbb R^{2 \\times 2}$ is the indentity matrix.\n",
    "- For this assignment, $d$ is 2 because the input coordinates in two dimensions.\n",
    "- You can experiment with $m$, like $m=256$.\n",
    "- You should show results for $\\sigma$ value of 1.\n",
    "\n",
    "Source: https://bmild.github.io/fourfeat/\n",
    "This assignment is inspired by and built off of the authors' demo."
   ]
  },
  {
   "cell_type": "markdown",
   "metadata": {
    "id": "g1PrabcYcszP"
   },
   "source": [
    "## Setup"
   ]
  },
  {
   "cell_type": "markdown",
   "metadata": {
    "id": "wILGPb5Ccuxm"
   },
   "source": [
    "### (Optional) Colab Setup\n",
    "If you aren't using Colab, you can delete the following code cell. Replace the path below with the path in your Google Drive to the uploaded assignment folder. Mounting to Google Drive will allow you access the other .py files in the assignment folder and save outputs to this folder"
   ]
  },
  {
   "cell_type": "code",
   "execution_count": 1,
   "metadata": {
    "colab": {
     "base_uri": "https://localhost:8080/"
    },
    "executionInfo": {
     "elapsed": 485,
     "status": "ok",
     "timestamp": 1741720180522,
     "user": {
      "displayName": "Aidan Andrews",
      "userId": "13864723075473294824"
     },
     "user_tz": 300
    },
    "id": "qd7bYYf9cl-0",
    "outputId": "d14e6ea9-5a62-4976-8cc9-247cf41114ae"
   },
   "outputs": [],
   "source": [
    "# you will be prompted with a window asking to grant permissions\n",
    "# click connect to google drive, choose your account, and click allow\n",
    "# from google.colab import drive\n",
    "# drive.mount(\"/content/drive\")"
   ]
  },
  {
   "cell_type": "code",
   "execution_count": 2,
   "metadata": {
    "colab": {
     "base_uri": "https://localhost:8080/"
    },
    "executionInfo": {
     "elapsed": 108,
     "status": "ok",
     "timestamp": 1741720181235,
     "user": {
      "displayName": "Aidan Andrews",
      "userId": "13864723075473294824"
     },
     "user_tz": 300
    },
    "id": "Rkf-pZcSdUjU",
    "outputId": "f291a1a6-4d93-4fb7-d10e-f62aa17db9fd"
   },
   "outputs": [
    {
     "name": "stdout",
     "output_type": "stream",
     "text": [
      "/home/aidan/Downloads/assignment2_starter_code-20250311T224204Z-001/assignment2_starter_code\n"
     ]
    }
   ],
   "source": [
    "# TODO: fill in the path in your Google Drive in the string below\n",
    "# Note: do not escape slashes or spaces in the path string\n",
    "import os\n",
    "# datadir = \"/content/assignment2\"\n",
    "# if not os.path.exists(datadir):\n",
    "#   !ln -s \"/content/drive/My Drive/path/to/your/assignment2/\" $datadir\n",
    "# datadir = \"/content/drive/My Drive/CS 444/MPs/assignment2_starter_code/assignment2_starter_code\"\n",
    "# datadir = \"/content/drive/My Drive/assignment2_starter_code\" # Aidan Datadir\n",
    "datadir = \"/home/aidan/Downloads/assignment2_starter_code-20250311T224204Z-001/assignment2_starter_code\"\n",
    "os.chdir(datadir)\n",
    "!pwd"
   ]
  },
  {
   "cell_type": "markdown",
   "metadata": {
    "id": "EfPlwYF07wB_"
   },
   "source": [
    "### Imports"
   ]
  },
  {
   "cell_type": "code",
   "execution_count": 3,
   "metadata": {
    "colab": {
     "base_uri": "https://localhost:8080/"
    },
    "executionInfo": {
     "elapsed": 1355,
     "status": "ok",
     "timestamp": 1741720183621,
     "user": {
      "displayName": "Aidan Andrews",
      "userId": "13864723075473294824"
     },
     "user_tz": 300
    },
    "id": "5CKY4Fdna2Y-",
    "outputId": "719c8193-8cc4-4faa-f8e8-ee9cbd038350"
   },
   "outputs": [],
   "source": [
    "import matplotlib.pyplot as plt\n",
    "from tqdm.notebook import tqdm\n",
    "import os, imageio\n",
    "import cv2\n",
    "import cupy as np\n",
    "\n",
    "# imports /content/assignment2/models/neural_net.py if you mounted correctly\n",
    "from models.aidan_neural_net import NeuralNetwork\n",
    "# !cat models/aidan_neural_net.py\n",
    "\n",
    "# makes sure your NeuralNetwork updates as you make changes to the .py file\n",
    "%load_ext autoreload\n",
    "%autoreload 2\n",
    "\n",
    "# sets default size of plots\n",
    "%matplotlib inline\n",
    "plt.rcParams['figure.figsize'] = (10.0, 8.0)"
   ]
  },
  {
   "cell_type": "markdown",
   "metadata": {
    "id": "MhqQzPGU7dls"
   },
   "source": [
    "## Helper Functions"
   ]
  },
  {
   "cell_type": "markdown",
   "metadata": {
    "id": "F_D1y-kJ7eMk"
   },
   "source": [
    "### Image Data and Feature Mappings (Fill in TODOs)"
   ]
  },
  {
   "cell_type": "code",
   "execution_count": 4,
   "metadata": {
    "executionInfo": {
     "elapsed": 45,
     "status": "ok",
     "timestamp": 1741720194315,
     "user": {
      "displayName": "Aidan Andrews",
      "userId": "13864723075473294824"
     },
     "user_tz": 300
    },
    "id": "xcvnzOICobu3"
   },
   "outputs": [],
   "source": [
    "# Data loader - already done for you\n",
    "def get_image(size=512, \\\n",
    "              image_url='https://bmild.github.io/fourfeat/img/lion_orig.png'):\n",
    "\n",
    "  # Download image, take a square crop from the center\n",
    "  img = imageio.imread(image_url)[..., :3] / 255.\n",
    "  c = [img.shape[0]//2, img.shape[1]//2]\n",
    "  r = 256\n",
    "  img = img[c[0]-r:c[0]+r, c[1]-r:c[1]+r]\n",
    "\n",
    "  if size != 512:\n",
    "    img = cv2.resize(img, (size, size))\n",
    "\n",
    "  plt.imshow(img)\n",
    "  plt.show()\n",
    "\n",
    "  # Create input pixel coordinates in the unit square\n",
    "  coords = np.linspace(0, 1, img.shape[0], endpoint=False)\n",
    "  x_test = np.stack(np.meshgrid(coords, coords), -1)\n",
    "  test_data = [x_test, img]\n",
    "  train_data = [x_test[::2, ::2], img[::2, ::2]]\n",
    "\n",
    "  return train_data, test_data"
   ]
  },
  {
   "cell_type": "code",
   "execution_count": 5,
   "metadata": {
    "executionInfo": {
     "elapsed": 13,
     "status": "ok",
     "timestamp": 1741720195824,
     "user": {
      "displayName": "Aidan Andrews",
      "userId": "13864723075473294824"
     },
     "user_tz": 300
    },
    "id": "6YksepPb8Yyw"
   },
   "outputs": [],
   "source": [
    "# Create the mappings dictionary of matrix B -  you will implement this\n",
    "def get_B_dict(size):\n",
    "  mapping_size = size // 2 # you may tweak this hyperparameter\n",
    "  B_dict = {}\n",
    "  B_dict['none'] = None\n",
    "\n",
    "  # add B matrix for basic, gauss_1.0\n",
    "  # TODO implement this\n",
    "  B_dict['basic'] = np.identity(2)\n",
    "  B_dict['gauss_1.0'] = np.random.normal(size=(mapping_size, 2))\n",
    "\n",
    "  return B_dict"
   ]
  },
  {
   "cell_type": "code",
   "execution_count": 6,
   "metadata": {
    "executionInfo": {
     "elapsed": 11,
     "status": "ok",
     "timestamp": 1741720196763,
     "user": {
      "displayName": "Aidan Andrews",
      "userId": "13864723075473294824"
     },
     "user_tz": 300
    },
    "id": "B_9mubvp8aY1"
   },
   "outputs": [],
   "source": [
    "# Given tensor x of input coordinates, map it using B - you will implement\n",
    "def input_mapping(x, B):\n",
    "  if B is None:\n",
    "    # \"none\" mapping - just returns the original input coordinates\n",
    "    return x\n",
    "  else:\n",
    "    # \"basic\" mapping and \"gauss_X\" mappings project input features using B\n",
    "    # TODO implement this\n",
    "    x2 = x.reshape(-1, B.shape[1])\n",
    "    return np.concatenate([np.cos(2 * np.pi * x2 @ B.T), np.sin(2 * np.pi * x2 @ B.T)], axis = 1)"
   ]
  },
  {
   "cell_type": "markdown",
   "metadata": {
    "id": "-XZiVy05or2V"
   },
   "source": [
    "### MSE Loss and PSNR Error (Fill in TODOs)"
   ]
  },
  {
   "cell_type": "code",
   "execution_count": 7,
   "metadata": {
    "executionInfo": {
     "elapsed": 12,
     "status": "ok",
     "timestamp": 1741720197812,
     "user": {
      "displayName": "Aidan Andrews",
      "userId": "13864723075473294824"
     },
     "user_tz": 300
    },
    "id": "CdJbDPL9iOer"
   },
   "outputs": [],
   "source": [
    "def mse(y, p):\n",
    "  # TODO implement this\n",
    "  # make sure it is consistent with your implementation in neural_net.py\n",
    "  return np.mean((y - p) ** 2)\n",
    "\n",
    "def psnr(y, p):\n",
    "  # TODO implement this\n",
    "  return -10 * np.log10(2.*mse(y, p))"
   ]
  },
  {
   "cell_type": "code",
   "execution_count": 8,
   "metadata": {
    "colab": {
     "base_uri": "https://localhost:8080/",
     "height": 697
    },
    "executionInfo": {
     "elapsed": 283,
     "status": "ok",
     "timestamp": 1741720199511,
     "user": {
      "displayName": "Aidan Andrews",
      "userId": "13864723075473294824"
     },
     "user_tz": 300
    },
    "id": "uFU-rPCFn9mN",
    "outputId": "93d9b9b6-5693-4907-8c7b-ce7a2d45f970"
   },
   "outputs": [
    {
     "name": "stderr",
     "output_type": "stream",
     "text": [
      "/tmp/ipykernel_2374/3999599749.py:6: DeprecationWarning: Starting with ImageIO v3 the behavior of this function will switch to that of iio.v3.imread. To keep the current behavior (and make this warning disappear) use `import imageio.v2 as imageio` or call `imageio.v2.imread` directly.\n",
      "  img = imageio.imread(image_url)[..., :3] / 255.\n"
     ]
    },
    {
     "data": {
      "image/png": "[encoded data removed]",
      "text/plain": [
       "<Figure size 1000x800 with 1 Axes>"
      ]
     },
     "metadata": {},
     "output_type": "display_data"
    },
    {
     "ename": "RuntimeError",
     "evalue": "CuPy failed to load libnvrtc.so.12: OSError: libnvrtc.so.12: cannot open shared object file: No such file or directory",
     "output_type": "error",
     "traceback": [
      "\u001b[0;31m---------------------------------------------------------------------------\u001b[0m",
      "\u001b[0;31mOSError\u001b[0m                                   Traceback (most recent call last)",
      "File \u001b[0;32mcupy_backends/cuda/_softlink.pyx:25\u001b[0m, in \u001b[0;36mcupy_backends.cuda._softlink.SoftLink.__init__\u001b[0;34m()\u001b[0m\n",
      "File \u001b[0;32m/usr/lib/python3.12/ctypes/__init__.py:379\u001b[0m, in \u001b[0;36mCDLL.__init__\u001b[0;34m(self, name, mode, handle, use_errno, use_last_error, winmode)\u001b[0m\n\u001b[1;32m    378\u001b[0m \u001b[38;5;28;01mif\u001b[39;00m handle \u001b[38;5;129;01mis\u001b[39;00m \u001b[38;5;28;01mNone\u001b[39;00m:\n\u001b[0;32m--> 379\u001b[0m     \u001b[38;5;28mself\u001b[39m\u001b[38;5;241m.\u001b[39m_handle \u001b[38;5;241m=\u001b[39m \u001b[43m_dlopen\u001b[49m\u001b[43m(\u001b[49m\u001b[38;5;28;43mself\u001b[39;49m\u001b[38;5;241;43m.\u001b[39;49m\u001b[43m_name\u001b[49m\u001b[43m,\u001b[49m\u001b[43m \u001b[49m\u001b[43mmode\u001b[49m\u001b[43m)\u001b[49m\n\u001b[1;32m    380\u001b[0m \u001b[38;5;28;01melse\u001b[39;00m:\n",
      "\u001b[0;31mOSError\u001b[0m: libnvrtc.so.12: cannot open shared object file: No such file or directory",
      "\nThe above exception was the direct cause of the following exception:\n",
      "\u001b[0;31mRuntimeError\u001b[0m                              Traceback (most recent call last)",
      "Cell \u001b[0;32mIn[8], line 2\u001b[0m\n\u001b[1;32m      1\u001b[0m size \u001b[38;5;241m=\u001b[39m \u001b[38;5;241m32\u001b[39m\n\u001b[0;32m----> 2\u001b[0m train_data, test_data \u001b[38;5;241m=\u001b[39m \u001b[43mget_image\u001b[49m\u001b[43m(\u001b[49m\u001b[43msize\u001b[49m\u001b[43m)\u001b[49m\n",
      "Cell \u001b[0;32mIn[4], line 18\u001b[0m, in \u001b[0;36mget_image\u001b[0;34m(size, image_url)\u001b[0m\n\u001b[1;32m     15\u001b[0m plt\u001b[38;5;241m.\u001b[39mshow()\n\u001b[1;32m     17\u001b[0m \u001b[38;5;66;03m# Create input pixel coordinates in the unit square\u001b[39;00m\n\u001b[0;32m---> 18\u001b[0m coords \u001b[38;5;241m=\u001b[39m \u001b[43mnp\u001b[49m\u001b[38;5;241;43m.\u001b[39;49m\u001b[43mlinspace\u001b[49m\u001b[43m(\u001b[49m\u001b[38;5;241;43m0\u001b[39;49m\u001b[43m,\u001b[49m\u001b[43m \u001b[49m\u001b[38;5;241;43m1\u001b[39;49m\u001b[43m,\u001b[49m\u001b[43m \u001b[49m\u001b[43mimg\u001b[49m\u001b[38;5;241;43m.\u001b[39;49m\u001b[43mshape\u001b[49m\u001b[43m[\u001b[49m\u001b[38;5;241;43m0\u001b[39;49m\u001b[43m]\u001b[49m\u001b[43m,\u001b[49m\u001b[43m \u001b[49m\u001b[43mendpoint\u001b[49m\u001b[38;5;241;43m=\u001b[39;49m\u001b[38;5;28;43;01mFalse\u001b[39;49;00m\u001b[43m)\u001b[49m\n\u001b[1;32m     19\u001b[0m x_test \u001b[38;5;241m=\u001b[39m np\u001b[38;5;241m.\u001b[39mstack(np\u001b[38;5;241m.\u001b[39mmeshgrid(coords, coords), \u001b[38;5;241m-\u001b[39m\u001b[38;5;241m1\u001b[39m)\n\u001b[1;32m     20\u001b[0m test_data \u001b[38;5;241m=\u001b[39m [x_test, img]\n",
      "File \u001b[0;32m~/school/lib/python3.12/site-packages/cupy/_creation/ranges.py:161\u001b[0m, in \u001b[0;36mlinspace\u001b[0;34m(start, stop, num, endpoint, retstep, dtype, axis)\u001b[0m\n\u001b[1;32m    159\u001b[0m scalar_stop \u001b[38;5;241m=\u001b[39m cupy\u001b[38;5;241m.\u001b[39misscalar(stop)\n\u001b[1;32m    160\u001b[0m \u001b[38;5;28;01mif\u001b[39;00m scalar_start \u001b[38;5;129;01mand\u001b[39;00m scalar_stop:\n\u001b[0;32m--> 161\u001b[0m     \u001b[38;5;28;01mreturn\u001b[39;00m \u001b[43m_linspace_scalar\u001b[49m\u001b[43m(\u001b[49m\u001b[43mstart\u001b[49m\u001b[43m,\u001b[49m\u001b[43m \u001b[49m\u001b[43mstop\u001b[49m\u001b[43m,\u001b[49m\u001b[43m \u001b[49m\u001b[43mnum\u001b[49m\u001b[43m,\u001b[49m\u001b[43m \u001b[49m\u001b[43mendpoint\u001b[49m\u001b[43m,\u001b[49m\u001b[43m \u001b[49m\u001b[43mretstep\u001b[49m\u001b[43m,\u001b[49m\u001b[43m \u001b[49m\u001b[43mdtype\u001b[49m\u001b[43m)\u001b[49m\n\u001b[1;32m    163\u001b[0m \u001b[38;5;28;01mif\u001b[39;00m \u001b[38;5;129;01mnot\u001b[39;00m scalar_start:\n\u001b[1;32m    164\u001b[0m     \u001b[38;5;28;01mif\u001b[39;00m \u001b[38;5;129;01mnot\u001b[39;00m (\u001b[38;5;28misinstance\u001b[39m(start, cupy\u001b[38;5;241m.\u001b[39mndarray) \u001b[38;5;129;01mand\u001b[39;00m start\u001b[38;5;241m.\u001b[39mdtype\u001b[38;5;241m.\u001b[39mkind \u001b[38;5;241m==\u001b[39m \u001b[38;5;124m'\u001b[39m\u001b[38;5;124mf\u001b[39m\u001b[38;5;124m'\u001b[39m):\n",
      "File \u001b[0;32m~/school/lib/python3.12/site-packages/cupy/_creation/ranges.py:105\u001b[0m, in \u001b[0;36m_linspace_scalar\u001b[0;34m(start, stop, num, endpoint, retstep, dtype)\u001b[0m\n\u001b[1;32m    103\u001b[0m     _linspace_ufunc_underflow(start, stop \u001b[38;5;241m-\u001b[39m start, div, ret)\n\u001b[1;32m    104\u001b[0m \u001b[38;5;28;01melse\u001b[39;00m:\n\u001b[0;32m--> 105\u001b[0m     \u001b[43m_linspace_ufunc\u001b[49m\u001b[43m(\u001b[49m\u001b[43mstart\u001b[49m\u001b[43m,\u001b[49m\u001b[43m \u001b[49m\u001b[43mstep\u001b[49m\u001b[43m,\u001b[49m\u001b[43m \u001b[49m\u001b[43mret\u001b[49m\u001b[43m)\u001b[49m\n\u001b[1;32m    107\u001b[0m \u001b[38;5;28;01mif\u001b[39;00m endpoint:\n\u001b[1;32m    108\u001b[0m     \u001b[38;5;66;03m# Here num == div + 1 > 1 is ensured.\u001b[39;00m\n\u001b[1;32m    109\u001b[0m     ret[\u001b[38;5;241m-\u001b[39m\u001b[38;5;241m1\u001b[39m] \u001b[38;5;241m=\u001b[39m stop\n",
      "File \u001b[0;32mcupy/_core/_kernel.pyx:1374\u001b[0m, in \u001b[0;36mcupy._core._kernel.ufunc.__call__\u001b[0;34m()\u001b[0m\n",
      "File \u001b[0;32mcupy/_core/_kernel.pyx:1401\u001b[0m, in \u001b[0;36mcupy._core._kernel.ufunc._get_ufunc_kernel\u001b[0;34m()\u001b[0m\n",
      "File \u001b[0;32mcupy/_core/_kernel.pyx:1082\u001b[0m, in \u001b[0;36mcupy._core._kernel._get_ufunc_kernel\u001b[0;34m()\u001b[0m\n",
      "File \u001b[0;32mcupy/_core/_kernel.pyx:94\u001b[0m, in \u001b[0;36mcupy._core._kernel._get_simple_elementwise_kernel\u001b[0;34m()\u001b[0m\n",
      "File \u001b[0;32mcupy/_core/_kernel.pyx:82\u001b[0m, in \u001b[0;36mcupy._core._kernel._get_simple_elementwise_kernel_from_code\u001b[0;34m()\u001b[0m\n",
      "File \u001b[0;32mcupy/_core/core.pyx:2328\u001b[0m, in \u001b[0;36mcupy._core.core.compile_with_cache\u001b[0;34m()\u001b[0m\n",
      "File \u001b[0;32mcupy/_core/core.pyx:2266\u001b[0m, in \u001b[0;36mcupy._core.core.assemble_cupy_compiler_options\u001b[0;34m()\u001b[0m\n",
      "File \u001b[0;32mcupy_backends/cuda/libs/nvrtc.pyx:57\u001b[0m, in \u001b[0;36mcupy_backends.cuda.libs.nvrtc.getVersion\u001b[0;34m()\u001b[0m\n",
      "File \u001b[0;32mcupy_backends/cuda/libs/_cnvrtc.pxi:72\u001b[0m, in \u001b[0;36mcupy_backends.cuda.libs.nvrtc.initialize\u001b[0;34m()\u001b[0m\n",
      "File \u001b[0;32mcupy_backends/cuda/libs/_cnvrtc.pxi:75\u001b[0m, in \u001b[0;36mcupy_backends.cuda.libs.nvrtc._initialize\u001b[0;34m()\u001b[0m\n",
      "File \u001b[0;32mcupy_backends/cuda/libs/_cnvrtc.pxi:147\u001b[0m, in \u001b[0;36mcupy_backends.cuda.libs.nvrtc._get_softlink\u001b[0;34m()\u001b[0m\n",
      "File \u001b[0;32mcupy_backends/cuda/_softlink.pyx:32\u001b[0m, in \u001b[0;36mcupy_backends.cuda._softlink.SoftLink.__init__\u001b[0;34m()\u001b[0m\n",
      "\u001b[0;31mRuntimeError\u001b[0m: CuPy failed to load libnvrtc.so.12: OSError: libnvrtc.so.12: cannot open shared object file: No such file or directory"
     ]
    }
   ],
   "source": [
    "size = 32\n",
    "train_data, test_data = get_image(size)"
   ]
  },
  {
   "cell_type": "markdown",
   "metadata": {
    "id": "csKDsiLaALNs"
   },
   "source": [
    "Some suggested hyperparameter choices to help you start\n",
    "- hidden layer count: 4\n",
    "- hidden layer size: 256\n",
    "- number of epochs: 1000\n",
    "- learning rate: 0.1\n"
   ]
  },
  {
   "cell_type": "code",
   "execution_count": null,
   "metadata": {
    "colab": {
     "base_uri": "https://localhost:8080/"
    },
    "executionInfo": {
     "elapsed": 3,
     "status": "ok",
     "timestamp": 1741720200924,
     "user": {
      "displayName": "Aidan Andrews",
      "userId": "13864723075473294824"
     },
     "user_tz": 300
    },
    "id": "o5wYjwNP-8mb",
    "outputId": "b115e3ab-a65b-4e67-eec7-631bae88fea3"
   },
   "outputs": [
    {
     "name": "stdout",
     "output_type": "stream",
     "text": [
      "B_dict items:\n",
      "\t none ()\n",
      "\t basic (2, 2)\n",
      "\t gauss_1.0 (16, 2)\n"
     ]
    }
   ],
   "source": [
    "num_layers = 4  # you should not change this value\n",
    "\n",
    "# TODO: Set the hyperparameters\n",
    "hidden_size = 512 # 256 #256\n",
    "epochs = 2000 # 1000\n",
    "learning_rate = 0.05 # 0.1\n",
    "output_size = 3\n",
    "B_dict = get_B_dict(size)\n",
    "\n",
    "print('B_dict items:')\n",
    "for k,v in B_dict.items():\n",
    "    print('\\t',k,np.array(v).shape)"
   ]
  },
  {
   "cell_type": "code",
   "execution_count": null,
   "metadata": {
    "executionInfo": {
     "elapsed": 12,
     "status": "ok",
     "timestamp": 1741720201584,
     "user": {
      "displayName": "Aidan Andrews",
      "userId": "13864723075473294824"
     },
     "user_tz": 300
    },
    "id": "UBGd4KfYjJ14"
   },
   "outputs": [],
   "source": [
    "# Apply the input feature mapping to the train and test data - already done for you\n",
    "def get_input_features(B_dict, mapping):\n",
    "  # mapping is the key to the B_dict, which has the value of B\n",
    "  # B is then used with the function `input_mapping` to map x\n",
    "  y_train = train_data[1].reshape(-1, output_size)\n",
    "  y_test = test_data[1].reshape(-1, output_size)\n",
    "  X_train = input_mapping(train_data[0].reshape(-1, 2), B_dict[mapping])\n",
    "  X_test = input_mapping(test_data[0].reshape(-1, 2), B_dict[mapping])\n",
    "  return X_train, y_train, X_test, y_test"
   ]
  },
  {
   "cell_type": "markdown",
   "metadata": {
    "id": "yeXQlG8T7ZzD"
   },
   "source": [
    "### Plotting and video helper functions (you don't need to change anything here)"
   ]
  },
  {
   "cell_type": "code",
   "execution_count": null,
   "metadata": {
    "executionInfo": {
     "elapsed": 14,
     "status": "ok",
     "timestamp": 1741720202689,
     "user": {
      "displayName": "Aidan Andrews",
      "userId": "13864723075473294824"
     },
     "user_tz": 300
    },
    "id": "3SniGS2aA_Ic"
   },
   "outputs": [],
   "source": [
    "def plot_training_curves(train_loss, train_psnr, test_psnr):\n",
    "  # plot the training loss\n",
    "  plt.subplot(2, 1, 1)\n",
    "  plt.plot(train_loss)\n",
    "  plt.title('MSE history')\n",
    "  plt.xlabel('Iteration')\n",
    "  plt.ylabel('MSE Loss')\n",
    "\n",
    "  # plot the training and testing psnr\n",
    "  plt.subplot(2, 1, 2)\n",
    "  plt.plot(train_psnr, label='train')\n",
    "  plt.plot(test_psnr, label='test')\n",
    "  plt.title('PSNR history')\n",
    "  plt.xlabel('Iteration')\n",
    "  plt.ylabel('PSNR')\n",
    "  plt.legend()\n",
    "\n",
    "  plt.tight_layout()\n",
    "  plt.show()\n",
    "\n",
    "def plot_reconstruction(p, y):\n",
    "  p_im = p.reshape(size,size,3)\n",
    "  y_im = y.reshape(size,size,3)\n",
    "\n",
    "  plt.figure(figsize=(12,6))\n",
    "\n",
    "  # plot the reconstruction of the image\n",
    "  plt.subplot(1,2,1), plt.imshow(p_im), plt.title(\"reconstruction\")\n",
    "\n",
    "  # plot the ground truth image\n",
    "  plt.subplot(1,2,2), plt.imshow(y_im), plt.title(\"ground truth\")\n",
    "\n",
    "  print(\"Final Test MSE\", mse(y, p))\n",
    "  print(\"Final Test psnr\",psnr(y, p))\n",
    "\n",
    "def plot_reconstruction_progress(predicted_images, y, N=8):\n",
    "  total = len(predicted_images)\n",
    "  step = total // N\n",
    "  plt.figure(figsize=(24, 4))\n",
    "\n",
    "  # plot the progress of reconstructions\n",
    "  for i, j in enumerate(range(0,total, step)):\n",
    "      plt.subplot(1, N+1, i+1)\n",
    "      plt.imshow(predicted_images[j].reshape(size,size,3))\n",
    "      plt.axis(\"off\")\n",
    "      plt.title(f\"iter {j}\")\n",
    "\n",
    "  # plot ground truth image\n",
    "  plt.subplot(1, N+1, N+1)\n",
    "  plt.imshow(y.reshape(size,size,3))\n",
    "  plt.title('GT')\n",
    "  plt.axis(\"off\")\n",
    "  plt.show()\n",
    "\n",
    "def plot_feature_mapping_comparison(outputs, gt):\n",
    "  # plot reconstruction images for each mapping\n",
    "  plt.figure(figsize=(24, 4))\n",
    "  N = len(outputs)\n",
    "  for i, k in enumerate(outputs):\n",
    "      plt.subplot(1, N+1, i+1)\n",
    "      plt.imshow(outputs[k]['pred_imgs'][-1].reshape(size, size, -1))\n",
    "      plt.title(k)\n",
    "  plt.subplot(1, N+1, N+1)\n",
    "  plt.imshow(gt)\n",
    "  plt.title('GT')\n",
    "  plt.show()\n",
    "\n",
    "  # plot train/test error curves for each mapping\n",
    "  iters = len(outputs[k]['train_psnrs'])\n",
    "  plt.figure(figsize=(16, 6))\n",
    "  plt.subplot(121)\n",
    "  for i, k in enumerate(outputs):\n",
    "      plt.plot(range(iters), outputs[k]['train_psnrs'], label=k)\n",
    "  plt.title('Train error')\n",
    "  plt.ylabel('PSNR')\n",
    "  plt.xlabel('Training iter')\n",
    "  plt.legend()\n",
    "  plt.subplot(122)\n",
    "  for i, k in enumerate(outputs):\n",
    "      plt.plot(range(iters), outputs[k]['test_psnrs'], label=k)\n",
    "  plt.title('Test error')\n",
    "  plt.ylabel('PSNR')\n",
    "  plt.xlabel('Training iter')\n",
    "  plt.legend()\n",
    "  plt.show()\n",
    "\n",
    "# Save out video\n",
    "def create_and_visualize_video(outputs, size=size, epochs=epochs, filename='training_convergence.mp4'):\n",
    "  all_preds = np.concatenate([outputs[n]['pred_imgs'].reshape(epochs,size,size,3)[::25] for n in outputs], axis=-2)\n",
    "  data8 = (255*np.clip(all_preds, 0, 1)).astype(np.uint8)\n",
    "  f = os.path.join(filename)\n",
    "  imageio.mimwrite(f, data8, fps=20)\n",
    "\n",
    "  # Display video inline\n",
    "  from IPython.display import HTML\n",
    "  from base64 import b64encode\n",
    "  mp4 = open(f, 'rb').read()\n",
    "  data_url = \"data:video/mp4;base64,\" + b64encode(mp4).decode()\n",
    "\n",
    "  N = len(outputs)\n",
    "  if N == 1:\n",
    "    return HTML(f'''\n",
    "    <video width=256 controls autoplay loop>\n",
    "          <source src=\"{data_url}\" type=\"video/mp4\">\n",
    "    </video>\n",
    "    ''')\n",
    "  else:\n",
    "    return HTML(f'''\n",
    "    <video width=1000 controls autoplay loop>\n",
    "          <source src=\"{data_url}\" type=\"video/mp4\">\n",
    "    </video>\n",
    "    <table width=\"1000\" cellspacing=\"0\" cellpadding=\"0\">\n",
    "      <tr>{''.join(N*[f'<td width=\"{1000//len(outputs)}\"></td>'])}</tr>\n",
    "      <tr>{''.join(N*['<td style=\"text-align:center\">{}</td>'])}</tr>\n",
    "    </table>\n",
    "    '''.format(*list(outputs.keys())))"
   ]
  },
  {
   "cell_type": "markdown",
   "metadata": {
    "id": "jWYSuPu2mP8x"
   },
   "source": [
    "### Experiment Runner (Fill in TODOs)"
   ]
  },
  {
   "cell_type": "code",
   "execution_count": null,
   "metadata": {
    "executionInfo": {
     "elapsed": 12,
     "status": "ok",
     "timestamp": 1741720204984,
     "user": {
      "displayName": "Aidan Andrews",
      "userId": "13864723075473294824"
     },
     "user_tz": 300
    },
    "id": "tSdrQ0QR92tt"
   },
   "outputs": [],
   "source": [
    "def NN_experiment(X_train, y_train, X_test, y_test, input_size, num_layers,\\\n",
    "                  hidden_size, output_size, epochs,\\\n",
    "                  learning_rate, opt='SGD'):\n",
    "\n",
    "    # Initialize a new neural network model\n",
    "    hidden_sizes = [hidden_size] * (num_layers - 1)\n",
    "    net = NeuralNetwork(input_size, hidden_sizes, output_size, num_layers, opt)\n",
    "\n",
    "    # Variables to store performance for each epoch\n",
    "    train_loss = np.zeros(epochs)\n",
    "    train_psnr = np.zeros(epochs)\n",
    "    test_psnr = np.zeros(epochs)\n",
    "    predicted_images = np.zeros((epochs, y_test.shape[0], y_test.shape[1]))\n",
    "\n",
    "    # For each epoch...\n",
    "    for epoch in tqdm(range(epochs)):\n",
    "\n",
    "        # Shuffle the dataset\n",
    "        # TODO implement this\n",
    "        indices = np.random.permutation(len(X_train))\n",
    "        X_train, y_train = X_train[indices], y_train[indices]\n",
    "\n",
    "        # Training\n",
    "        # Run the forward pass of the model to get a prediction and record the psnr\n",
    "        # TODO implement this\n",
    "        train_psnr[epoch] = psnr(y_train, net.forward(X_train))\n",
    "\n",
    "        # Run the backward pass of the model to compute the loss, record the loss, and update the weights\n",
    "        # TODO implement this\n",
    "        train_loss[epoch] = net.backward(y_train)\n",
    "        net.update(learning_rate)\n",
    "        if (epoch % 100 == 0):\n",
    "          net.update_lr()\n",
    "\n",
    "        # Testing\n",
    "        # No need to run the backward pass here, just run the forward pass to compute and record the psnr\n",
    "        # TODO implement this\n",
    "        predicted_images[epoch] = net.forward(X_test)\n",
    "        test_psnr[epoch] = psnr(y_test, predicted_images[epoch])\n",
    "\n",
    "    return net, train_psnr, test_psnr, train_loss, predicted_images"
   ]
  },
  {
   "cell_type": "markdown",
   "metadata": {
    "id": "32nZKUI87j1U"
   },
   "source": [
    "# Low Resolution Reconstruction"
   ]
  },
  {
   "cell_type": "markdown",
   "metadata": {
    "id": "63CMVVY9pCYy"
   },
   "source": [
    "#### Low Resolution Reconstruction - SGD - None Mapping"
   ]
  },
  {
   "cell_type": "code",
   "execution_count": null,
   "metadata": {
    "colab": {
     "base_uri": "https://localhost:8080/",
     "height": 1000,
     "referenced_widgets": [
      "d5bb11a0f69b41d685f0a347aa461dcf",
      "c58e5bcf493b4bf1926af68d80eb909e",
      "4f382fa645b041b9b44cd6a29aef8c7e",
      "351ab2585c944fe4aad0119ab9ea03f4",
      "61959c8815d6451d888f179710dbd108",
      "5bec14f1354b4a79924efb20c707bb18",
      "55feadb13416498dbf17ab9de2bf9058",
      "1ec84aadce4d421f968effdc4714fe00",
      "6d7b9262453b49e8adbae630b2458191",
      "5e54cb22856040f6903120431f2b1b21",
      "6cb579c2390545bebc60659af1f492e2"
     ]
    },
    "executionInfo": {
     "elapsed": 266687,
     "status": "ok",
     "timestamp": 1741584302279,
     "user": {
      "displayName": "Aidan Andrews",
      "userId": "13864723075473294824"
     },
     "user_tz": 300
    },
    "id": "RDcWCccppJHg",
    "outputId": "fdc85ef0-9e74-47a5-e199-e19f16c5bb5c"
   },
   "outputs": [
    {
     "data": {
      "application/vnd.jupyter.widget-view+json": {
       "model_id": "4af962bb63484721945bc7ac25b6416f",
       "version_major": 2,
       "version_minor": 0
      },
      "text/plain": [
       "  0%|          | 0/2000 [00:00<?, ?it/s]"
      ]
     },
     "metadata": {},
     "output_type": "display_data"
    },
    {
     "ename": "KeyboardInterrupt",
     "evalue": "",
     "output_type": "error",
     "traceback": [
      "\u001b[0;31m---------------------------------------------------------------------------\u001b[0m",
      "\u001b[0;31mKeyboardInterrupt\u001b[0m                         Traceback (most recent call last)",
      "Cell \u001b[0;32mIn[25], line 7\u001b[0m\n\u001b[1;32m      3\u001b[0m X_train, y_train, X_test, y_test \u001b[38;5;241m=\u001b[39m get_input_features(get_B_dict(size), \u001b[38;5;124m'\u001b[39m\u001b[38;5;124mbasic\u001b[39m\u001b[38;5;124m'\u001b[39m)\n\u001b[1;32m      5\u001b[0m \u001b[38;5;66;03m# run NN experiment on input features\u001b[39;00m\n\u001b[1;32m      6\u001b[0m \u001b[38;5;66;03m# TODO implement by using the NN_experiment() helper function\u001b[39;00m\n\u001b[0;32m----> 7\u001b[0m net, train_psnr, test_psnr, train_loss, predicted_images \u001b[38;5;241m=\u001b[39m \u001b[43mNN_experiment\u001b[49m\u001b[43m(\u001b[49m\u001b[43mX_train\u001b[49m\u001b[43m,\u001b[49m\u001b[43m \u001b[49m\u001b[43my_train\u001b[49m\u001b[43m,\u001b[49m\u001b[43m \u001b[49m\u001b[43mX_test\u001b[49m\u001b[43m,\u001b[49m\u001b[43m \u001b[49m\u001b[43my_test\u001b[49m\u001b[43m,\u001b[49m\u001b[43m \u001b[49m\u001b[43mX_train\u001b[49m\u001b[38;5;241;43m.\u001b[39;49m\u001b[43mshape\u001b[49m\u001b[43m[\u001b[49m\u001b[38;5;241;43m1\u001b[39;49m\u001b[43m]\u001b[49m\u001b[43m,\u001b[49m\u001b[43m \u001b[49m\u001b[43mnum_layers\u001b[49m\u001b[43m,\u001b[49m\u001b[43m \u001b[49m\u001b[43mhidden_size\u001b[49m\u001b[43m,\u001b[49m\u001b[43m \u001b[49m\u001b[43moutput_size\u001b[49m\u001b[43m,\u001b[49m\u001b[43m \u001b[49m\u001b[43mepochs\u001b[49m\u001b[43m,\u001b[49m\u001b[43m \u001b[49m\u001b[43mlearning_rate\u001b[49m\u001b[43m)\u001b[49m\n\u001b[1;32m      9\u001b[0m \u001b[38;5;66;03m# plot results of experiment\u001b[39;00m\n\u001b[1;32m     10\u001b[0m plot_training_curves(train_loss, train_psnr, test_psnr)\n",
      "Cell \u001b[0;32mIn[24], line 30\u001b[0m, in \u001b[0;36mNN_experiment\u001b[0;34m(X_train, y_train, X_test, y_test, input_size, num_layers, hidden_size, output_size, epochs, learning_rate, opt)\u001b[0m\n\u001b[1;32m     26\u001b[0m train_psnr[epoch] \u001b[38;5;241m=\u001b[39m psnr(y_train, net\u001b[38;5;241m.\u001b[39mforward(X_train))\n\u001b[1;32m     28\u001b[0m \u001b[38;5;66;03m# Run the backward pass of the model to compute the loss, record the loss, and update the weights\u001b[39;00m\n\u001b[1;32m     29\u001b[0m \u001b[38;5;66;03m# TODO implement this\u001b[39;00m\n\u001b[0;32m---> 30\u001b[0m train_loss[epoch] \u001b[38;5;241m=\u001b[39m \u001b[43mnet\u001b[49m\u001b[38;5;241;43m.\u001b[39;49m\u001b[43mbackward\u001b[49m\u001b[43m(\u001b[49m\u001b[43my_train\u001b[49m\u001b[43m)\u001b[49m\n\u001b[1;32m     31\u001b[0m net\u001b[38;5;241m.\u001b[39mupdate(learning_rate)\n\u001b[1;32m     32\u001b[0m \u001b[38;5;28;01mif\u001b[39;00m (epoch \u001b[38;5;241m%\u001b[39m \u001b[38;5;241m100\u001b[39m \u001b[38;5;241m==\u001b[39m \u001b[38;5;241m0\u001b[39m):\n",
      "File \u001b[0;32m~/Downloads/assignment2_starter_code-20250311T224204Z-001/assignment2_starter_code/models/aidan_neural_net.py:194\u001b[0m, in \u001b[0;36mNeuralNetwork.backward\u001b[0;34m(self, y)\u001b[0m\n\u001b[1;32m    190\u001b[0m \u001b[38;5;28;01mfor\u001b[39;00m i \u001b[38;5;129;01min\u001b[39;00m \u001b[38;5;28mrange\u001b[39m(\u001b[38;5;28mself\u001b[39m\u001b[38;5;241m.\u001b[39mnum_layers \u001b[38;5;241m-\u001b[39m \u001b[38;5;241m1\u001b[39m, \u001b[38;5;241m0\u001b[39m, \u001b[38;5;241m-\u001b[39m\u001b[38;5;241m1\u001b[39m):\n\u001b[1;32m    191\u001b[0m     upstream_gradient \u001b[38;5;241m=\u001b[39m \u001b[38;5;28mself\u001b[39m\u001b[38;5;241m.\u001b[39mgradients[\u001b[38;5;124m\"\u001b[39m\u001b[38;5;124mX\u001b[39m\u001b[38;5;124m\"\u001b[39m \u001b[38;5;241m+\u001b[39m \u001b[38;5;28mstr\u001b[39m(i \u001b[38;5;241m+\u001b[39m \u001b[38;5;241m1\u001b[39m)] \u001b[38;5;241m*\u001b[39m \u001b[38;5;28mself\u001b[39m\u001b[38;5;241m.\u001b[39mrelu_grad(\n\u001b[1;32m    192\u001b[0m         \u001b[38;5;28mself\u001b[39m\u001b[38;5;241m.\u001b[39moutputs[\u001b[38;5;124m\"\u001b[39m\u001b[38;5;124mUL\u001b[39m\u001b[38;5;124m\"\u001b[39m \u001b[38;5;241m+\u001b[39m \u001b[38;5;28mstr\u001b[39m(i)]\n\u001b[1;32m    193\u001b[0m     )\n\u001b[0;32m--> 194\u001b[0m     gradient \u001b[38;5;241m=\u001b[39m \u001b[38;5;28;43mself\u001b[39;49m\u001b[38;5;241;43m.\u001b[39;49m\u001b[43mlinear_grad\u001b[49m\u001b[43m(\u001b[49m\n\u001b[1;32m    195\u001b[0m \u001b[43m        \u001b[49m\u001b[38;5;28;43mself\u001b[39;49m\u001b[38;5;241;43m.\u001b[39;49m\u001b[43mparams\u001b[49m\u001b[43m[\u001b[49m\u001b[38;5;124;43m\"\u001b[39;49m\u001b[38;5;124;43mW\u001b[39;49m\u001b[38;5;124;43m\"\u001b[39;49m\u001b[43m \u001b[49m\u001b[38;5;241;43m+\u001b[39;49m\u001b[43m \u001b[49m\u001b[38;5;28;43mstr\u001b[39;49m\u001b[43m(\u001b[49m\u001b[43mi\u001b[49m\u001b[43m)\u001b[49m\u001b[43m]\u001b[49m\u001b[43m,\u001b[49m\n\u001b[1;32m    196\u001b[0m \u001b[43m        \u001b[49m\u001b[38;5;28;43mself\u001b[39;49m\u001b[38;5;241;43m.\u001b[39;49m\u001b[43moutputs\u001b[49m\u001b[43m[\u001b[49m\u001b[38;5;124;43m\"\u001b[39;49m\u001b[38;5;124;43mL\u001b[39;49m\u001b[38;5;124;43m\"\u001b[39;49m\u001b[43m \u001b[49m\u001b[38;5;241;43m+\u001b[39;49m\u001b[43m \u001b[49m\u001b[38;5;28;43mstr\u001b[39;49m\u001b[43m(\u001b[49m\u001b[43mi\u001b[49m\u001b[43m \u001b[49m\u001b[38;5;241;43m-\u001b[39;49m\u001b[43m \u001b[49m\u001b[38;5;241;43m1\u001b[39;49m\u001b[43m)\u001b[49m\u001b[43m]\u001b[49m\u001b[43m,\u001b[49m\n\u001b[1;32m    197\u001b[0m \u001b[43m        \u001b[49m\u001b[43mupstream_gradient\u001b[49m\u001b[43m,\u001b[49m\n\u001b[1;32m    198\u001b[0m \u001b[43m    \u001b[49m\u001b[43m)\u001b[49m\n\u001b[1;32m    200\u001b[0m     \u001b[38;5;28mself\u001b[39m\u001b[38;5;241m.\u001b[39mgradients[\u001b[38;5;124m\"\u001b[39m\u001b[38;5;124mW\u001b[39m\u001b[38;5;124m\"\u001b[39m \u001b[38;5;241m+\u001b[39m \u001b[38;5;28mstr\u001b[39m(i)] \u001b[38;5;241m=\u001b[39m gradient[\u001b[38;5;241m0\u001b[39m]\n\u001b[1;32m    201\u001b[0m     \u001b[38;5;28mself\u001b[39m\u001b[38;5;241m.\u001b[39mgradients[\u001b[38;5;124m\"\u001b[39m\u001b[38;5;124mb\u001b[39m\u001b[38;5;124m\"\u001b[39m \u001b[38;5;241m+\u001b[39m \u001b[38;5;28mstr\u001b[39m(i)] \u001b[38;5;241m=\u001b[39m gradient[\u001b[38;5;241m1\u001b[39m]\n",
      "File \u001b[0;32m~/Downloads/assignment2_starter_code-20250311T224204Z-001/assignment2_starter_code/models/aidan_neural_net.py:96\u001b[0m, in \u001b[0;36mNeuralNetwork.linear_grad\u001b[0;34m(self, W, X, de_dz)\u001b[0m\n\u001b[1;32m     81\u001b[0m \u001b[38;5;28;01mdef\u001b[39;00m\u001b[38;5;250m \u001b[39m\u001b[38;5;21mlinear_grad\u001b[39m(\n\u001b[1;32m     82\u001b[0m     \u001b[38;5;28mself\u001b[39m, W: np\u001b[38;5;241m.\u001b[39mndarray, X: np\u001b[38;5;241m.\u001b[39mndarray, de_dz: np\u001b[38;5;241m.\u001b[39mndarray\n\u001b[1;32m     83\u001b[0m ) \u001b[38;5;241m-\u001b[39m\u001b[38;5;241m>\u001b[39m np\u001b[38;5;241m.\u001b[39mndarray:\n\u001b[1;32m     84\u001b[0m \u001b[38;5;250m    \u001b[39m\u001b[38;5;124;03m\"\"\"Gradient of linear layer\u001b[39;00m\n\u001b[1;32m     85\u001b[0m \u001b[38;5;124;03m    Parameters:\u001b[39;00m\n\u001b[1;32m     86\u001b[0m \u001b[38;5;124;03m        W: the weight matrix\u001b[39;00m\n\u001b[0;32m   (...)\u001b[0m\n\u001b[1;32m     94\u001b[0m \u001b[38;5;124;03m            de_dx: gradient of loss with respect to X\u001b[39;00m\n\u001b[1;32m     95\u001b[0m \u001b[38;5;124;03m    \"\"\"\u001b[39;00m\n\u001b[0;32m---> 96\u001b[0m     \u001b[38;5;28;01mreturn\u001b[39;00m [\u001b[43mnp\u001b[49m\u001b[38;5;241;43m.\u001b[39;49m\u001b[43mdot\u001b[49m\u001b[43m(\u001b[49m\u001b[43mX\u001b[49m\u001b[38;5;241;43m.\u001b[39;49m\u001b[43mT\u001b[49m\u001b[43m,\u001b[49m\u001b[43m \u001b[49m\u001b[43mde_dz\u001b[49m\u001b[43m)\u001b[49m, np\u001b[38;5;241m.\u001b[39msum(de_dz, axis\u001b[38;5;241m=\u001b[39m\u001b[38;5;241m0\u001b[39m), np\u001b[38;5;241m.\u001b[39mdot(de_dz, W\u001b[38;5;241m.\u001b[39mT)]\n",
      "\u001b[0;31mKeyboardInterrupt\u001b[0m: "
     ]
    }
   ],
   "source": [
    "# get input features\n",
    "# TODO implement this by using the get_B_dict() and get_input_features() helper functions\n",
    "X_train, y_train, X_test, y_test = get_input_features(get_B_dict(size), 'basic')\n",
    "\n",
    "# run NN experiment on input features\n",
    "# TODO implement by using the NN_experiment() helper function\n",
    "net, train_psnr, test_psnr, train_loss, predicted_images = NN_experiment(X_train, y_train, X_test, y_test, X_train.shape[1], num_layers, hidden_size, output_size, epochs, learning_rate)\n",
    "\n",
    "# plot results of experiment\n",
    "plot_training_curves(train_loss, train_psnr, test_psnr)\n",
    "plot_reconstruction(net.forward(X_test), y_test)\n",
    "plot_reconstruction_progress(predicted_images, y_test)"
   ]
  },
  {
   "cell_type": "markdown",
   "metadata": {
    "id": "hvD5bj__qpjr"
   },
   "source": [
    "#### Low Resolution Reconstruction - SGD - Various Input Mapping Stategies"
   ]
  },
  {
   "cell_type": "code",
   "execution_count": null,
   "metadata": {
    "executionInfo": {
     "elapsed": 13,
     "status": "ok",
     "timestamp": 1741719505145,
     "user": {
      "displayName": "Aidan Andrews",
      "userId": "13864723075473294824"
     },
     "user_tz": 300
    },
    "id": "xJn8Dp8IrBYI"
   },
   "outputs": [],
   "source": [
    "def train_wrapper(mapping, size, num_layers, hidden_size, output_size, epochs,  learning_rate, opt='SGD'):\n",
    "    # TODO implement me\n",
    "    # makes it easy to run all your mapping experiments in a for loop\n",
    "    # this will similar to what you did previously in the last two sections\n",
    "\n",
    "    X_train, y_train, X_test, y_test = get_input_features(get_B_dict(size), mapping)\n",
    "    net, train_psnrs, test_psnrs, train_loss, predicted_images = NN_experiment(X_train, y_train, X_test, y_test, X_train.shape[1], num_layers, hidden_size, output_size, epochs, learning_rate)\n",
    "\n",
    "    return {\n",
    "        'net': net,\n",
    "        'train_psnrs': train_psnrs,\n",
    "        'test_psnrs': test_psnrs,\n",
    "        'train_loss': train_loss,\n",
    "        'pred_imgs': predicted_images\n",
    "    }"
   ]
  },
  {
   "cell_type": "code",
   "execution_count": null,
   "metadata": {
    "colab": {
     "base_uri": "https://localhost:8080/",
     "height": 199,
     "referenced_widgets": [
      "eb6bb5b5f03645d5b75a5ac668d6135b",
      "e05e95582b744bc4867f7dba2261c23e",
      "3281a1af052445f28ec1fa89a580d91a",
      "bba9173691e443abbb5e94b782fcdb83",
      "2dd1d7ee78144261af81aeb65f00ddb7",
      "5213a77a237d41f2b9ffe69b2ba9fb31",
      "a8409923a5d24efc874cf1ab8d64bc4c",
      "eb568ae98d894caab22f754182b65841",
      "e4d540b739f44f5799cc6161a5926b8e",
      "779c4d80f05c47389b3bec6de13f7e67",
      "e390a9d22b2f4dcaa999262f0ab2305d",
      "1ad822bbc93744a1bea0df2fde46a2e5",
      "cdc35ef3c0f744ee80afd415a5a72160",
      "8c992c467259442183df2bf2f843ae3a",
      "c1833728b78d4ae78cacd7ee88403485",
      "c0df6b081e1e4832913087290590cc3e",
      "77e7499e38b14e2a9180e189342833df",
      "e157e94e9ad74777b0ca1a28f0b0c20d",
      "ccb4367cc08c4d10993c554f15f2ea0d",
      "86f6c00744a340dfb78f4d343a1b9b9e",
      "c425669989b54e9a8b8d3130f9773318",
      "956c9f10942c4dd9b08282eccc0a5528",
      "5b0f7b08e0ad424292f8a52180a2db20",
      "6efa9a89a213478183c0e9381baade08",
      "690667295736417d8723dae804de0b54",
      "220b078a03944f4388942b1c822da395",
      "92cb77d343d740e89b6a95cccc9ab9e4",
      "9d68c382144046cdac34b2412e4f7283",
      "0ee75559c58e4b9aa5d62f38372b740b",
      "01719053ccc74b399c35083f10586e9f",
      "38e0e3dafcce4b24b9e3ed93575b89ee",
      "c27b07a45f4047c98e8a9c55f88c5c90",
      "ae6eb8b9fdf24aa7858fd632d5b7b942",
      "7d0e7c9d0754411e9760fe7df3967879",
      "7b10834ecaa948e7b2bc425ca7edaab8",
      "21790f207e1e4266a479cce3233ffdec",
      "46ebde0aba2049938a3932663115a0d6",
      "03f6293c7f314a81a9fe660948703b7f",
      "973bf6f9e3b749198f5ac5d069ccdd55",
      "c5dd9bd5af874bcb850b4ba46a780e59",
      "3a4ba1644cfb4ba7816a65c5e91cc705",
      "6942fe3dbaf24f3ea8e7e341ba8db83a",
      "4f602e568b264c77b566d669eb23dab8",
      "23dbfb2162184b16a73f9daabe57059c"
     ]
    },
    "executionInfo": {
     "elapsed": 816578,
     "status": "ok",
     "timestamp": 1741585118867,
     "user": {
      "displayName": "Aidan Andrews",
      "userId": "13864723075473294824"
     },
     "user_tz": 300
    },
    "id": "3-8E-xZFCLr6",
    "outputId": "8068e1e0-d7e9-465f-c1b0-381927737f46"
   },
   "outputs": [],
   "source": [
    "outputs = {}\n",
    "for k in tqdm(B_dict):\n",
    "  print(\"training\", k)\n",
    "  outputs[k] = train_wrapper(k, size, num_layers, hidden_size, output_size, epochs, learning_rate, opt='SGD')"
   ]
  },
  {
   "cell_type": "code",
   "execution_count": null,
   "metadata": {
    "colab": {
     "base_uri": "https://localhost:8080/",
     "height": 743
    },
    "executionInfo": {
     "elapsed": 1076,
     "status": "ok",
     "timestamp": 1741585119946,
     "user": {
      "displayName": "Aidan Andrews",
      "userId": "13864723075473294824"
     },
     "user_tz": 300
    },
    "id": "lHshB7AvvwKC",
    "outputId": "2bb6d76e-98f5-4f8a-9dec-c2afd2b807a7"
   },
   "outputs": [],
   "source": [
    "# if you did everything correctly so far, this should output a nice figure you can use in your report\n",
    "plot_feature_mapping_comparison(outputs, y_test.reshape(size,size,3))"
   ]
  },
  {
   "cell_type": "markdown",
   "metadata": {
    "id": "R3Xp9T9GxmS8"
   },
   "source": [
    "# High Resolution Reconstruction"
   ]
  },
  {
   "cell_type": "markdown",
   "metadata": {
    "id": "PqiF7mqksn1M"
   },
   "source": [
    "#### High Resolution Reconstruction - SGD - Various Input Mapping Stategies"
   ]
  },
  {
   "cell_type": "markdown",
   "metadata": {
    "id": "wCcGOG_tstpz"
   },
   "source": [
    "Repeat the previous experiment, but at the higher resolution. The reason why we have you first experiment with the lower resolution since it is faster to train and debug. Additionally, you will see how the mapping strategies perform better or worse at the two different input resolutions."
   ]
  },
  {
   "cell_type": "code",
   "execution_count": null,
   "metadata": {
    "colab": {
     "base_uri": "https://localhost:8080/",
     "height": 735
    },
    "executionInfo": {
     "elapsed": 1022,
     "status": "ok",
     "timestamp": 1741585120969,
     "user": {
      "displayName": "Aidan Andrews",
      "userId": "13864723075473294824"
     },
     "user_tz": 300
    },
    "id": "aoXjcQ1Wxski",
    "outputId": "f78f63a2-1521-4c27-ce99-9d9391c493b8"
   },
   "outputs": [],
   "source": [
    "# load hi-res image\n",
    "size = 128\n",
    "train_data, test_data = get_image(size)"
   ]
  },
  {
   "cell_type": "code",
   "execution_count": null,
   "metadata": {
    "id": "Gu3jKhAU5RFz"
   },
   "outputs": [],
   "source": [
    "hidden_size = 1024 #256\n",
    "epochs = 2000 #1000\n",
    "learning_rate = 0.05 #.1, .2"
   ]
  },
  {
   "cell_type": "code",
   "execution_count": null,
   "metadata": {
    "colab": {
     "background_save": true,
     "base_uri": "https://localhost:8080/",
     "height": 199,
     "referenced_widgets": [
      "bd44048af75b4c9d86a88823cfa02448",
      "9e72103e02f4450599512fbbe45ecd95",
      "98824b8546204238b69df9deaf8597c4",
      "8c8f3d8f61434fbdaa6cc04287057506",
      "ed12e6d093784b5cb0aae8a417258571",
      "4fda1b49445f4ef893caa33ad97824bd",
      "f860edf128d24469b8e5a39f37e33935",
      "2a9b9bff69eb4b3ab1e82482793cbb9e",
      "e79c666983e14d9b8c32b4c17f270f5e",
      "6221dff7e7a5402384785cbbecdda32f",
      "4cd3a77f668246f2ad8109e006eae444",
      "e634269807aa4f7b9ed77af1239d13c5",
      "b94f97767bbb4ca7b11135164446d6cb",
      "63befeb87b7b4a5aa40b3efad107cc52",
      "3696a6026d9949af92f22bb4ba2e8858",
      "f8e276d2937b40cca6e62b13b6c3ae68",
      "a585c36f009348e78c73a42dc7a1e9c8",
      "36258e0fec4848229dfad5e27f5a7c72",
      "d4204b23c0474092b86c6debb47c651c",
      "30df35f3afa54bf49397a3adab8fac13",
      "f9174fc292fe428ba9d932afbe3d3bf9",
      "1f37f732203d482faf0edb19466d9b30",
      "8738ed9d505643ba9f1c5f2599e79a64",
      "853219f180b44da9802848fb7abd8f95",
      "a5978cf200e144fb985dacfc1fde8fd3",
      "b481e336f57a4e10926e71bc19fc4c80",
      "db369f0ee40e46d9910dde9435fe097b",
      "d070d8b13ef646deb39140f132f63529",
      "2cfb3c3d10ce4fc69867dc9f1625ef32",
      "4f497347db8941a69619060022deb2b1",
      "d66bdc5b884e4eab97acb9a1c1dd6820",
      "f3681dc122424d479b4cd5c733c5e99f",
      "d37c5911d7d14e7aafac3944cfe73e82",
      "0b150e4255d343b39b6a6189ba1d5a4f",
      "5f4e8286d7e64f10a462c3df6e87eaa4",
      "67dcc5f181b947ec98dd9607d1ab3aba",
      "a41e15b64592459db083014ab3520697",
      "8937ccc6451b4c419087d95996b3b16a",
      "e7b880f0d08743389d75afd708af9422",
      "e810b66257de49ae83426035e335b76c",
      "42a8eb5d314641e5a455e8ebeae2e2e4",
      "4e80252a8d9a44c5a5f3ec9867c49678",
      "69e0534fe07145a2847b170dbcdfeb8c",
      "e70ebbfe9349478cb393c2b7552e086e"
     ]
    },
    "id": "A6xpU_WvskOh",
    "outputId": "56689836-3b38-492a-fbc4-55195f463751"
   },
   "outputs": [],
   "source": [
    "outputs = {}\n",
    "for k in tqdm(B_dict):\n",
    "  print(\"training\", k)\n",
    "  outputs[k] = train_wrapper(k,size, num_layers, hidden_size, output_size, epochs, learning_rate, opt='SGD')"
   ]
  },
  {
   "cell_type": "code",
   "execution_count": null,
   "metadata": {
    "colab": {
     "background_save": true
    },
    "id": "oLIgNsN4-8mf",
    "outputId": "ad3da73f-c216-4e94-f0f6-4c52f4c001d8"
   },
   "outputs": [],
   "source": [
    "X_train, y_train, X_test, y_test = get_input_features(get_B_dict(size), \"none\")  # for getting y_test\n",
    "\n",
    "# if you did everything correctly so far, this should output a nice figure you can use in your report\n",
    "plot_feature_mapping_comparison(outputs, y_test.reshape(size,size,3))\n",
    "\n",
    "# Office hour feedback\n",
    "# Best thing to try is training for more epochs\n",
    "# Train curve should be around 30, test curve will likely be lower at around 18\n",
    "# learning rate either too high or too low\n",
    "# Come to office hours if it still doesn't work\n",
    "# Use an intermediate resolution (change 'size' variable)\n",
    "# Mini batch SGD"
   ]
  },
  {
   "cell_type": "markdown",
   "metadata": {
    "id": "BG2wNhrkvtFz"
   },
   "source": [
    "#### High Resolution Reconstruction - Image of your Choice"
   ]
  },
  {
   "cell_type": "markdown",
   "metadata": {
    "id": "c8fm-X0wxY6f"
   },
   "source": [
    "When choosing an image select one that you think will give you interesting results or a better insight into the performance of different feature mappings and explain why in your report template."
   ]
  },
  {
   "cell_type": "code",
   "execution_count": null,
   "metadata": {
    "colab": {
     "base_uri": "https://localhost:8080/",
     "height": 691
    },
    "executionInfo": {
     "elapsed": 1096,
     "status": "ok",
     "timestamp": 1741720209639,
     "user": {
      "displayName": "Aidan Andrews",
      "userId": "13864723075473294824"
     },
     "user_tz": 300
    },
    "id": "-NLWTXXVvsZt",
    "outputId": "49e6bf07-f23c-43da-ced0-8b16086b335c"
   },
   "outputs": [],
   "source": [
    "size = 128\n",
    "# TODO pick an image and replace the url string\n",
    "train_data, test_data = get_image(size, image_url=\"https://science.nasa.gov/wp-content/uploads/2023/09/stsci-01ga76rm0c11w977jrhgj5j26x-2.png\")"
   ]
  },
  {
   "cell_type": "code",
   "execution_count": null,
   "metadata": {
    "colab": {
     "base_uri": "https://localhost:8080/",
     "height": 49,
     "referenced_widgets": [
      "1143aa20559149b582459198036b989c",
      "5d2ccb37877a49c99cef5049a7f6a020",
      "fcd6ca64c3554a9bb4cba24b69f7227f",
      "bf76dd61a3e44621b436febc7b0a2443",
      "b6c5d18acf954344b4abdd4d8c6ae11b",
      "668de2f9c0254c638317fcc9aee10745",
      "958a9ffde0aa4917b078b949ac21832f",
      "459b2ea62cc7413b86db6e3aa19bb3be",
      "466654322ce74ed59fa29034cc01a70b",
      "b4f72053d66f46b2accc07e1ee2787a3",
      "f22cffb9f8f84e5588ee043e7f9b4cb0"
     ]
    },
    "id": "y4rA4SnRwH2u",
    "outputId": "a75d6a72-cef3-41b9-dee5-554d3676a0f3"
   },
   "outputs": [],
   "source": [
    "# get input features\n",
    "# TODO implement this by using the get_B_dict() and get_input_features() helper functions\n",
    "size = 128\n",
    "B_dict = get_B_dict(size)\n",
    "mapping = 'gauss_1.0'\n",
    "X_train, y_train, X_test, y_test = get_input_features(B_dict, mapping)\n",
    "\n",
    "# run NN experiment on input features\n",
    "# TODO implement by using the NN_experiment() helper function\n",
    "input_size = X_train.shape[1]\n",
    "num_layers = 4\n",
    "hidden_size = 512\n",
    "epochs = 2000\n",
    "learning_rate = 0.001\n",
    "output_size = 3\n",
    "B_dict = get_B_dict(size)\n",
    "opt = 'Adam'\n",
    "\n",
    "net, train_psnr, test_psnr, train_loss, predicted_images = NN_experiment(\n",
    "    X_train, y_train, X_test, y_test,\n",
    "    input_size, num_layers, hidden_size, output_size,\n",
    "    epochs, learning_rate, opt\n",
    ")\n",
    "\n",
    "\n",
    "\n",
    "plot_training_curves(train_loss, train_psnr, test_psnr)\n",
    "plot_reconstruction(net.forward(X_test), y_test)\n",
    "plot_reconstruction_progress(predicted_images, y_test)"
   ]
  },
  {
   "cell_type": "markdown",
   "metadata": {
    "id": "jCE0yV-ytIu3"
   },
   "source": [
    "# Reconstruction Process Video (Optional)\n",
    "(For Fun!) Visualize the progress of training in a video"
   ]
  },
  {
   "cell_type": "code",
   "execution_count": null,
   "metadata": {
    "colab": {
     "background_save": true
    },
    "id": "NkDM58n_tlMe"
   },
   "outputs": [],
   "source": [
    "# requires installing this additional dependency\n",
    "!pip install imageio-ffmpeg"
   ]
  },
  {
   "cell_type": "code",
   "execution_count": null,
   "metadata": {
    "colab": {
     "background_save": true
    },
    "id": "ZKA5lnTED2a5"
   },
   "outputs": [],
   "source": [
    "# single video example\n",
    "create_and_visualize_video({\"gauss\": {\"pred_imgs\": predicted_images}}, filename=\"training_high_res_gauss.mp4\")"
   ]
  },
  {
   "cell_type": "code",
   "execution_count": null,
   "metadata": {
    "colab": {
     "background_save": true
    },
    "id": "ucNEYrqQvXsy"
   },
   "outputs": [],
   "source": [
    "# multi video example\n",
    "create_and_visualize_video(outputs, epochs=1000, size=32)"
   ]
  },
  {
   "cell_type": "markdown",
   "metadata": {
    "id": "zzSEzk7X-8m8"
   },
   "source": [
    "# Extra Credit - Adam Optimizer"
   ]
  },
  {
   "cell_type": "markdown",
   "metadata": {
    "id": "vQfAnoS8-8m8"
   },
   "source": [
    "#### Low Resolution Reconstruction - Adam - None Mapping"
   ]
  },
  {
   "cell_type": "code",
   "execution_count": null,
   "metadata": {
    "colab": {
     "background_save": true
    },
    "id": "5gmjLmdW-8m8"
   },
   "outputs": [],
   "source": [
    "# load low-res image\n",
    "size = 32\n",
    "train_data, test_data = get_image(size)"
   ]
  },
  {
   "cell_type": "code",
   "execution_count": null,
   "metadata": {
    "colab": {
     "background_save": true
    },
    "id": "PFAwFwD9-8m8"
   },
   "outputs": [],
   "source": [
    "# get input features\n",
    "# TODO implement this by using the get_B_dict() and get_input_features() helper functions\n",
    "\n",
    "# run NN experiment on input features\n",
    "# TODO implement by using the NN_experiment() helper function\n",
    "\n",
    "# plot results of experiment\n",
    "plot_training_curves(train_loss, train_psnr, test_psnr)\n",
    "plot_reconstruction(net.forward(X_test), y_test)\n",
    "plot_reconstruction_progress(predicted_images, y_test)"
   ]
  },
  {
   "cell_type": "markdown",
   "metadata": {
    "id": "8qfwLDd4-8m9"
   },
   "source": [
    "#### Low Resolution Reconstruction - Adam - Various Input Mapping Stategies"
   ]
  },
  {
   "cell_type": "code",
   "execution_count": null,
   "metadata": {
    "colab": {
     "background_save": true
    },
    "id": "7ZGZHgEi-8m9"
   },
   "outputs": [],
   "source": [
    "# start training\n",
    "outputs = {}\n",
    "for k in tqdm(B_dict):\n",
    "  print(\"training\", k)\n",
    "  outputs[k] = train_wrapper(k, size, num_layers, hidden_size, output_size, epochs, learning_rate, opt='Adam')"
   ]
  },
  {
   "cell_type": "markdown",
   "metadata": {
    "id": "wpvefw8l-8m9"
   },
   "source": [
    "#### High Resolution Reconstruction - Adam - Various Input Mapping Stategies"
   ]
  },
  {
   "cell_type": "markdown",
   "metadata": {
    "id": "jlKVIeo4-8m9"
   },
   "source": [
    "Repeat the previous experiment, but at the higher resolution. The reason why we have you first experiment with the lower resolution since it is faster to train and debug. Additionally, you will see how the mapping strategies perform better or worse at the two different input resolutions."
   ]
  },
  {
   "cell_type": "code",
   "execution_count": null,
   "metadata": {
    "colab": {
     "background_save": true
    },
    "id": "A-TyW-lu-8m9"
   },
   "outputs": [],
   "source": [
    "# load image\n",
    "size = 128\n",
    "train_data, test_data = get_image(size)\n",
    "\n",
    "# start training\n",
    "outputs = {}\n",
    "for k in tqdm(B_dict):\n",
    "  print(\"training\", k)\n",
    "  outputs[k] = train_wrapper(k, size, num_layers, hidden_size, output_size, epochs, learning_rate, opt='Adam')"
   ]
  },
  {
   "cell_type": "code",
   "execution_count": null,
   "metadata": {
    "colab": {
     "background_save": true
    },
    "id": "Fo7uzLqm-8m-"
   },
   "outputs": [],
   "source": [
    "X_train, y_train, X_test, y_test = get_input_features(get_B_dict(size), \"none\")  # for getting y_test\n",
    "\n",
    "# if you did everything correctly so far, this should output a nice figure you can use in your report\n",
    "plot_feature_mapping_comparison(outputs, y_test.reshape(size,size,3))"
   ]
  },
  {
   "cell_type": "markdown",
   "metadata": {
    "id": "b0I_ryW9-8m-"
   },
   "source": []
  },
  {
   "cell_type": "code",
   "execution_count": null,
   "metadata": {
    "colab": {
     "base_uri": "https://localhost:8080/"
    },
    "executionInfo": {
     "elapsed": 2834,
     "status": "ok",
     "timestamp": 1741717363895,
     "user": {
      "displayName": "Saket Reddy",
      "userId": "03275173122847367948"
     },
     "user_tz": 300
    },
    "id": "DZqru7tva8rT",
    "outputId": "4df9c1df-529c-4388-c8b8-43fefb6184d1"
   },
   "outputs": [],
   "source": [
    "!pip install nbconvert"
   ]
  },
  {
   "cell_type": "code",
   "execution_count": null,
   "metadata": {
    "colab": {
     "base_uri": "https://localhost:8080/"
    },
    "executionInfo": {
     "elapsed": 7606,
     "status": "ok",
     "timestamp": 1741717376523,
     "user": {
      "displayName": "Saket Reddy",
      "userId": "03275173122847367948"
     },
     "user_tz": 300
    },
    "id": "YFABDDsobBE_",
    "outputId": "5f2e7cc3-880b-4cc1-cd32-e3182411d0b0"
   },
   "outputs": [],
   "source": [
    "!apt-get install texlive texlive-xetex texlive-latex-extra pandoc"
   ]
  },
  {
   "cell_type": "code",
   "execution_count": null,
   "metadata": {
    "colab": {
     "base_uri": "https://localhost:8080/"
    },
    "executionInfo": {
     "elapsed": 5007,
     "status": "ok",
     "timestamp": 1741717525194,
     "user": {
      "displayName": "Saket Reddy",
      "userId": "03275173122847367948"
     },
     "user_tz": 300
    },
    "id": "XnKZ94LfbXn1",
    "outputId": "f2138334-e352-4000-d740-918efc597f47"
   },
   "outputs": [],
   "source": [
    "!jupyter nbconvert --to latex \"neural_network\".ipynb"
   ]
  }
 ],
 "metadata": {
  "accelerator": "TPU",
  "colab": {
   "gpuType": "V28",
   "provenance": [
    {
     "file_id": "1BwVWCniWqdJ8uY3kEO45bDEKh4Sz33yr",
     "timestamp": 1676429175577
    },
    {
     "file_id": "1DAylBgQeNgfnhZZovWlZ-WTQbcBa1-OL",
     "timestamp": 1676420343251
    },
    {
     "file_id": "1JxUD-Tub-AyqVWKzTCQUfb2Y7VWNA7cn",
     "timestamp": 1675456427314
    },
    {
     "file_id": "https://github.com/tancik/fourier-feature-networks/blob/master/Demo.ipynb",
     "timestamp": 1675455979531
    }
   ]
  },
  "kernelspec": {
   "display_name": "school",
   "language": "python",
   "name": "python3"
  },
  "language_info": {
   "codemirror_mode": {
    "name": "ipython",
    "version": 3
   },
   "file_extension": ".py",
   "mimetype": "text/x-python",
   "name": "python",
   "nbconvert_exporter": "python",
   "pygments_lexer": "ipython3",
   "version": "3.12.9"
  },
  "widgets": {
   "application/vnd.jupyter.widget-state+json": {
    "01719053ccc74b399c35083f10586e9f": {
     "model_module": "@jupyter-widgets/base",
     "model_module_version": "1.2.0",
     "model_name": "LayoutModel",
     "state": {
      "_model_module": "@jupyter-widgets/base",
      "_model_module_version": "1.2.0",
      "_model_name": "LayoutModel",
      "_view_count": null,
      "_view_module": "@jupyter-widgets/base",
      "_view_module_version": "1.2.0",
      "_view_name": "LayoutView",
      "align_content": null,
      "align_items": null,
      "align_self": null,
      "border": null,
      "bottom": null,
      "display": null,
      "flex": null,
      "flex_flow": null,
      "grid_area": null,
      "grid_auto_columns": null,
      "grid_auto_flow": null,
      "grid_auto_rows": null,
      "grid_column": null,
      "grid_gap": null,
      "grid_row": null,
      "grid_template_areas": null,
      "grid_template_columns": null,
      "grid_template_rows": null,
      "height": null,
      "justify_content": null,
      "justify_items": null,
      "left": null,
      "margin": null,
      "max_height": null,
      "max_width": null,
      "min_height": null,
      "min_width": null,
      "object_fit": null,
      "object_position": null,
      "order": null,
      "overflow": null,
      "overflow_x": null,
      "overflow_y": null,
      "padding": null,
      "right": null,
      "top": null,
      "visibility": null,
      "width": null
     }
    },
    "03f6293c7f314a81a9fe660948703b7f": {
     "model_module": "@jupyter-widgets/base",
     "model_module_version": "1.2.0",
     "model_name": "LayoutModel",
     "state": {
      "_model_module": "@jupyter-widgets/base",
      "_model_module_version": "1.2.0",
      "_model_name": "LayoutModel",
      "_view_count": null,
      "_view_module": "@jupyter-widgets/base",
      "_view_module_version": "1.2.0",
      "_view_name": "LayoutView",
      "align_content": null,
      "align_items": null,
      "align_self": null,
      "border": null,
      "bottom": null,
      "display": null,
      "flex": null,
      "flex_flow": null,
      "grid_area": null,
      "grid_auto_columns": null,
      "grid_auto_flow": null,
      "grid_auto_rows": null,
      "grid_column": null,
      "grid_gap": null,
      "grid_row": null,
      "grid_template_areas": null,
      "grid_template_columns": null,
      "grid_template_rows": null,
      "height": null,
      "justify_content": null,
      "justify_items": null,
      "left": null,
      "margin": null,
      "max_height": null,
      "max_width": null,
      "min_height": null,
      "min_width": null,
      "object_fit": null,
      "object_position": null,
      "order": null,
      "overflow": null,
      "overflow_x": null,
      "overflow_y": null,
      "padding": null,
      "right": null,
      "top": null,
      "visibility": null,
      "width": null
     }
    },
    "0b150e4255d343b39b6a6189ba1d5a4f": {
     "model_module": "@jupyter-widgets/controls",
     "model_module_version": "1.5.0",
     "model_name": "HBoxModel",
     "state": {
      "_dom_classes": [],
      "_model_module": "@jupyter-widgets/controls",
      "_model_module_version": "1.5.0",
      "_model_name": "HBoxModel",
      "_view_count": null,
      "_view_module": "@jupyter-widgets/controls",
      "_view_module_version": "1.5.0",
      "_view_name": "HBoxView",
      "box_style": "",
      "children": [
       "IPY_MODEL_5f4e8286d7e64f10a462c3df6e87eaa4",
       "IPY_MODEL_67dcc5f181b947ec98dd9607d1ab3aba",
       "IPY_MODEL_a41e15b64592459db083014ab3520697"
      ],
      "layout": "IPY_MODEL_8937ccc6451b4c419087d95996b3b16a"
     }
    },
    "0ee75559c58e4b9aa5d62f38372b740b": {
     "model_module": "@jupyter-widgets/controls",
     "model_module_version": "1.5.0",
     "model_name": "DescriptionStyleModel",
     "state": {
      "_model_module": "@jupyter-widgets/controls",
      "_model_module_version": "1.5.0",
      "_model_name": "DescriptionStyleModel",
      "_view_count": null,
      "_view_module": "@jupyter-widgets/base",
      "_view_module_version": "1.2.0",
      "_view_name": "StyleView",
      "description_width": ""
     }
    },
    "1143aa20559149b582459198036b989c": {
     "model_module": "@jupyter-widgets/controls",
     "model_module_version": "1.5.0",
     "model_name": "HBoxModel",
     "state": {
      "_dom_classes": [],
      "_model_module": "@jupyter-widgets/controls",
      "_model_module_version": "1.5.0",
      "_model_name": "HBoxModel",
      "_view_count": null,
      "_view_module": "@jupyter-widgets/controls",
      "_view_module_version": "1.5.0",
      "_view_name": "HBoxView",
      "box_style": "",
      "children": [
       "IPY_MODEL_5d2ccb37877a49c99cef5049a7f6a020",
       "IPY_MODEL_fcd6ca64c3554a9bb4cba24b69f7227f",
       "IPY_MODEL_bf76dd61a3e44621b436febc7b0a2443"
      ],
      "layout": "IPY_MODEL_b6c5d18acf954344b4abdd4d8c6ae11b"
     }
    },
    "1ad822bbc93744a1bea0df2fde46a2e5": {
     "model_module": "@jupyter-widgets/controls",
     "model_module_version": "1.5.0",
     "model_name": "HBoxModel",
     "state": {
      "_dom_classes": [],
      "_model_module": "@jupyter-widgets/controls",
      "_model_module_version": "1.5.0",
      "_model_name": "HBoxModel",
      "_view_count": null,
      "_view_module": "@jupyter-widgets/controls",
      "_view_module_version": "1.5.0",
      "_view_name": "HBoxView",
      "box_style": "",
      "children": [
       "IPY_MODEL_cdc35ef3c0f744ee80afd415a5a72160",
       "IPY_MODEL_8c992c467259442183df2bf2f843ae3a",
       "IPY_MODEL_c1833728b78d4ae78cacd7ee88403485"
      ],
      "layout": "IPY_MODEL_c0df6b081e1e4832913087290590cc3e"
     }
    },
    "1ec84aadce4d421f968effdc4714fe00": {
     "model_module": "@jupyter-widgets/base",
     "model_module_version": "1.2.0",
     "model_name": "LayoutModel",
     "state": {
      "_model_module": "@jupyter-widgets/base",
      "_model_module_version": "1.2.0",
      "_model_name": "LayoutModel",
      "_view_count": null,
      "_view_module": "@jupyter-widgets/base",
      "_view_module_version": "1.2.0",
      "_view_name": "LayoutView",
      "align_content": null,
      "align_items": null,
      "align_self": null,
      "border": null,
      "bottom": null,
      "display": null,
      "flex": null,
      "flex_flow": null,
      "grid_area": null,
      "grid_auto_columns": null,
      "grid_auto_flow": null,
      "grid_auto_rows": null,
      "grid_column": null,
      "grid_gap": null,
      "grid_row": null,
      "grid_template_areas": null,
      "grid_template_columns": null,
      "grid_template_rows": null,
      "height": null,
      "justify_content": null,
      "justify_items": null,
      "left": null,
      "margin": null,
      "max_height": null,
      "max_width": null,
      "min_height": null,
      "min_width": null,
      "object_fit": null,
      "object_position": null,
      "order": null,
      "overflow": null,
      "overflow_x": null,
      "overflow_y": null,
      "padding": null,
      "right": null,
      "top": null,
      "visibility": null,
      "width": null
     }
    },
    "1f37f732203d482faf0edb19466d9b30": {
     "model_module": "@jupyter-widgets/controls",
     "model_module_version": "1.5.0",
     "model_name": "DescriptionStyleModel",
     "state": {
      "_model_module": "@jupyter-widgets/controls",
      "_model_module_version": "1.5.0",
      "_model_name": "DescriptionStyleModel",
      "_view_count": null,
      "_view_module": "@jupyter-widgets/base",
      "_view_module_version": "1.2.0",
      "_view_name": "StyleView",
      "description_width": ""
     }
    },
    "21790f207e1e4266a479cce3233ffdec": {
     "model_module": "@jupyter-widgets/controls",
     "model_module_version": "1.5.0",
     "model_name": "FloatProgressModel",
     "state": {
      "_dom_classes": [],
      "_model_module": "@jupyter-widgets/controls",
      "_model_module_version": "1.5.0",
      "_model_name": "FloatProgressModel",
      "_view_count": null,
      "_view_module": "@jupyter-widgets/controls",
      "_view_module_version": "1.5.0",
      "_view_name": "ProgressView",
      "bar_style": "success",
      "description": "",
      "description_tooltip": null,
      "layout": "IPY_MODEL_3a4ba1644cfb4ba7816a65c5e91cc705",
      "max": 2000,
      "min": 0,
      "orientation": "horizontal",
      "style": "IPY_MODEL_6942fe3dbaf24f3ea8e7e341ba8db83a",
      "value": 2000
     }
    },
    "220b078a03944f4388942b1c822da395": {
     "model_module": "@jupyter-widgets/controls",
     "model_module_version": "1.5.0",
     "model_name": "HTMLModel",
     "state": {
      "_dom_classes": [],
      "_model_module": "@jupyter-widgets/controls",
      "_model_module_version": "1.5.0",
      "_model_name": "HTMLModel",
      "_view_count": null,
      "_view_module": "@jupyter-widgets/controls",
      "_view_module_version": "1.5.0",
      "_view_name": "HTMLView",
      "description": "",
      "description_tooltip": null,
      "layout": "IPY_MODEL_c27b07a45f4047c98e8a9c55f88c5c90",
      "placeholder": "​",
      "style": "IPY_MODEL_ae6eb8b9fdf24aa7858fd632d5b7b942",
      "value": " 2000/2000 [04:29&lt;00:00,  4.96it/s]"
     }
    },
    "23dbfb2162184b16a73f9daabe57059c": {
     "model_module": "@jupyter-widgets/controls",
     "model_module_version": "1.5.0",
     "model_name": "DescriptionStyleModel",
     "state": {
      "_model_module": "@jupyter-widgets/controls",
      "_model_module_version": "1.5.0",
      "_model_name": "DescriptionStyleModel",
      "_view_count": null,
      "_view_module": "@jupyter-widgets/base",
      "_view_module_version": "1.2.0",
      "_view_name": "StyleView",
      "description_width": ""
     }
    },
    "2a9b9bff69eb4b3ab1e82482793cbb9e": {
     "model_module": "@jupyter-widgets/base",
     "model_module_version": "1.2.0",
     "model_name": "LayoutModel",
     "state": {
      "_model_module": "@jupyter-widgets/base",
      "_model_module_version": "1.2.0",
      "_model_name": "LayoutModel",
      "_view_count": null,
      "_view_module": "@jupyter-widgets/base",
      "_view_module_version": "1.2.0",
      "_view_name": "LayoutView",
      "align_content": null,
      "align_items": null,
      "align_self": null,
      "border": null,
      "bottom": null,
      "display": null,
      "flex": null,
      "flex_flow": null,
      "grid_area": null,
      "grid_auto_columns": null,
      "grid_auto_flow": null,
      "grid_auto_rows": null,
      "grid_column": null,
      "grid_gap": null,
      "grid_row": null,
      "grid_template_areas": null,
      "grid_template_columns": null,
      "grid_template_rows": null,
      "height": null,
      "justify_content": null,
      "justify_items": null,
      "left": null,
      "margin": null,
      "max_height": null,
      "max_width": null,
      "min_height": null,
      "min_width": null,
      "object_fit": null,
      "object_position": null,
      "order": null,
      "overflow": null,
      "overflow_x": null,
      "overflow_y": null,
      "padding": null,
      "right": null,
      "top": null,
      "visibility": null,
      "width": null
     }
    },
    "2cfb3c3d10ce4fc69867dc9f1625ef32": {
     "model_module": "@jupyter-widgets/controls",
     "model_module_version": "1.5.0",
     "model_name": "DescriptionStyleModel",
     "state": {
      "_model_module": "@jupyter-widgets/controls",
      "_model_module_version": "1.5.0",
      "_model_name": "DescriptionStyleModel",
      "_view_count": null,
      "_view_module": "@jupyter-widgets/base",
      "_view_module_version": "1.2.0",
      "_view_name": "StyleView",
      "description_width": ""
     }
    },
    "2dd1d7ee78144261af81aeb65f00ddb7": {
     "model_module": "@jupyter-widgets/base",
     "model_module_version": "1.2.0",
     "model_name": "LayoutModel",
     "state": {
      "_model_module": "@jupyter-widgets/base",
      "_model_module_version": "1.2.0",
      "_model_name": "LayoutModel",
      "_view_count": null,
      "_view_module": "@jupyter-widgets/base",
      "_view_module_version": "1.2.0",
      "_view_name": "LayoutView",
      "align_content": null,
      "align_items": null,
      "align_self": null,
      "border": null,
      "bottom": null,
      "display": null,
      "flex": null,
      "flex_flow": null,
      "grid_area": null,
      "grid_auto_columns": null,
      "grid_auto_flow": null,
      "grid_auto_rows": null,
      "grid_column": null,
      "grid_gap": null,
      "grid_row": null,
      "grid_template_areas": null,
      "grid_template_columns": null,
      "grid_template_rows": null,
      "height": null,
      "justify_content": null,
      "justify_items": null,
      "left": null,
      "margin": null,
      "max_height": null,
      "max_width": null,
      "min_height": null,
      "min_width": null,
      "object_fit": null,
      "object_position": null,
      "order": null,
      "overflow": null,
      "overflow_x": null,
      "overflow_y": null,
      "padding": null,
      "right": null,
      "top": null,
      "visibility": null,
      "width": null
     }
    },
    "30df35f3afa54bf49397a3adab8fac13": {
     "model_module": "@jupyter-widgets/controls",
     "model_module_version": "1.5.0",
     "model_name": "ProgressStyleModel",
     "state": {
      "_model_module": "@jupyter-widgets/controls",
      "_model_module_version": "1.5.0",
      "_model_name": "ProgressStyleModel",
      "_view_count": null,
      "_view_module": "@jupyter-widgets/base",
      "_view_module_version": "1.2.0",
      "_view_name": "StyleView",
      "bar_color": null,
      "description_width": ""
     }
    },
    "3281a1af052445f28ec1fa89a580d91a": {
     "model_module": "@jupyter-widgets/controls",
     "model_module_version": "1.5.0",
     "model_name": "FloatProgressModel",
     "state": {
      "_dom_classes": [],
      "_model_module": "@jupyter-widgets/controls",
      "_model_module_version": "1.5.0",
      "_model_name": "FloatProgressModel",
      "_view_count": null,
      "_view_module": "@jupyter-widgets/controls",
      "_view_module_version": "1.5.0",
      "_view_name": "ProgressView",
      "bar_style": "success",
      "description": "",
      "description_tooltip": null,
      "layout": "IPY_MODEL_eb568ae98d894caab22f754182b65841",
      "max": 3,
      "min": 0,
      "orientation": "horizontal",
      "style": "IPY_MODEL_e4d540b739f44f5799cc6161a5926b8e",
      "value": 3
     }
    },
    "351ab2585c944fe4aad0119ab9ea03f4": {
     "model_module": "@jupyter-widgets/controls",
     "model_module_version": "1.5.0",
     "model_name": "HTMLModel",
     "state": {
      "_dom_classes": [],
      "_model_module": "@jupyter-widgets/controls",
      "_model_module_version": "1.5.0",
      "_model_name": "HTMLModel",
      "_view_count": null,
      "_view_module": "@jupyter-widgets/controls",
      "_view_module_version": "1.5.0",
      "_view_name": "HTMLView",
      "description": "",
      "description_tooltip": null,
      "layout": "IPY_MODEL_5e54cb22856040f6903120431f2b1b21",
      "placeholder": "​",
      "style": "IPY_MODEL_6cb579c2390545bebc60659af1f492e2",
      "value": " 2000/2000 [04:24&lt;00:00,  9.23it/s]"
     }
    },
    "36258e0fec4848229dfad5e27f5a7c72": {
     "model_module": "@jupyter-widgets/controls",
     "model_module_version": "1.5.0",
     "model_name": "DescriptionStyleModel",
     "state": {
      "_model_module": "@jupyter-widgets/controls",
      "_model_module_version": "1.5.0",
      "_model_name": "DescriptionStyleModel",
      "_view_count": null,
      "_view_module": "@jupyter-widgets/base",
      "_view_module_version": "1.2.0",
      "_view_name": "StyleView",
      "description_width": ""
     }
    },
    "3696a6026d9949af92f22bb4ba2e8858": {
     "model_module": "@jupyter-widgets/controls",
     "model_module_version": "1.5.0",
     "model_name": "HTMLModel",
     "state": {
      "_dom_classes": [],
      "_model_module": "@jupyter-widgets/controls",
      "_model_module_version": "1.5.0",
      "_model_name": "HTMLModel",
      "_view_count": null,
      "_view_module": "@jupyter-widgets/controls",
      "_view_module_version": "1.5.0",
      "_view_name": "HTMLView",
      "description": "",
      "description_tooltip": null,
      "layout": "IPY_MODEL_f9174fc292fe428ba9d932afbe3d3bf9",
      "placeholder": "​",
      "style": "IPY_MODEL_1f37f732203d482faf0edb19466d9b30",
      "value": " 2000/2000 [2:59:13&lt;00:00,  5.40s/it]"
     }
    },
    "38e0e3dafcce4b24b9e3ed93575b89ee": {
     "model_module": "@jupyter-widgets/controls",
     "model_module_version": "1.5.0",
     "model_name": "ProgressStyleModel",
     "state": {
      "_model_module": "@jupyter-widgets/controls",
      "_model_module_version": "1.5.0",
      "_model_name": "ProgressStyleModel",
      "_view_count": null,
      "_view_module": "@jupyter-widgets/base",
      "_view_module_version": "1.2.0",
      "_view_name": "StyleView",
      "bar_color": null,
      "description_width": ""
     }
    },
    "3a4ba1644cfb4ba7816a65c5e91cc705": {
     "model_module": "@jupyter-widgets/base",
     "model_module_version": "1.2.0",
     "model_name": "LayoutModel",
     "state": {
      "_model_module": "@jupyter-widgets/base",
      "_model_module_version": "1.2.0",
      "_model_name": "LayoutModel",
      "_view_count": null,
      "_view_module": "@jupyter-widgets/base",
      "_view_module_version": "1.2.0",
      "_view_name": "LayoutView",
      "align_content": null,
      "align_items": null,
      "align_self": null,
      "border": null,
      "bottom": null,
      "display": null,
      "flex": null,
      "flex_flow": null,
      "grid_area": null,
      "grid_auto_columns": null,
      "grid_auto_flow": null,
      "grid_auto_rows": null,
      "grid_column": null,
      "grid_gap": null,
      "grid_row": null,
      "grid_template_areas": null,
      "grid_template_columns": null,
      "grid_template_rows": null,
      "height": null,
      "justify_content": null,
      "justify_items": null,
      "left": null,
      "margin": null,
      "max_height": null,
      "max_width": null,
      "min_height": null,
      "min_width": null,
      "object_fit": null,
      "object_position": null,
      "order": null,
      "overflow": null,
      "overflow_x": null,
      "overflow_y": null,
      "padding": null,
      "right": null,
      "top": null,
      "visibility": null,
      "width": null
     }
    },
    "42a8eb5d314641e5a455e8ebeae2e2e4": {
     "model_module": "@jupyter-widgets/base",
     "model_module_version": "1.2.0",
     "model_name": "LayoutModel",
     "state": {
      "_model_module": "@jupyter-widgets/base",
      "_model_module_version": "1.2.0",
      "_model_name": "LayoutModel",
      "_view_count": null,
      "_view_module": "@jupyter-widgets/base",
      "_view_module_version": "1.2.0",
      "_view_name": "LayoutView",
      "align_content": null,
      "align_items": null,
      "align_self": null,
      "border": null,
      "bottom": null,
      "display": null,
      "flex": null,
      "flex_flow": null,
      "grid_area": null,
      "grid_auto_columns": null,
      "grid_auto_flow": null,
      "grid_auto_rows": null,
      "grid_column": null,
      "grid_gap": null,
      "grid_row": null,
      "grid_template_areas": null,
      "grid_template_columns": null,
      "grid_template_rows": null,
      "height": null,
      "justify_content": null,
      "justify_items": null,
      "left": null,
      "margin": null,
      "max_height": null,
      "max_width": null,
      "min_height": null,
      "min_width": null,
      "object_fit": null,
      "object_position": null,
      "order": null,
      "overflow": null,
      "overflow_x": null,
      "overflow_y": null,
      "padding": null,
      "right": null,
      "top": null,
      "visibility": null,
      "width": null
     }
    },
    "459b2ea62cc7413b86db6e3aa19bb3be": {
     "model_module": "@jupyter-widgets/base",
     "model_module_version": "1.2.0",
     "model_name": "LayoutModel",
     "state": {
      "_model_module": "@jupyter-widgets/base",
      "_model_module_version": "1.2.0",
      "_model_name": "LayoutModel",
      "_view_count": null,
      "_view_module": "@jupyter-widgets/base",
      "_view_module_version": "1.2.0",
      "_view_name": "LayoutView",
      "align_content": null,
      "align_items": null,
      "align_self": null,
      "border": null,
      "bottom": null,
      "display": null,
      "flex": null,
      "flex_flow": null,
      "grid_area": null,
      "grid_auto_columns": null,
      "grid_auto_flow": null,
      "grid_auto_rows": null,
      "grid_column": null,
      "grid_gap": null,
      "grid_row": null,
      "grid_template_areas": null,
      "grid_template_columns": null,
      "grid_template_rows": null,
      "height": null,
      "justify_content": null,
      "justify_items": null,
      "left": null,
      "margin": null,
      "max_height": null,
      "max_width": null,
      "min_height": null,
      "min_width": null,
      "object_fit": null,
      "object_position": null,
      "order": null,
      "overflow": null,
      "overflow_x": null,
      "overflow_y": null,
      "padding": null,
      "right": null,
      "top": null,
      "visibility": null,
      "width": null
     }
    },
    "466654322ce74ed59fa29034cc01a70b": {
     "model_module": "@jupyter-widgets/controls",
     "model_module_version": "1.5.0",
     "model_name": "ProgressStyleModel",
     "state": {
      "_model_module": "@jupyter-widgets/controls",
      "_model_module_version": "1.5.0",
      "_model_name": "ProgressStyleModel",
      "_view_count": null,
      "_view_module": "@jupyter-widgets/base",
      "_view_module_version": "1.2.0",
      "_view_name": "StyleView",
      "bar_color": null,
      "description_width": ""
     }
    },
    "46ebde0aba2049938a3932663115a0d6": {
     "model_module": "@jupyter-widgets/controls",
     "model_module_version": "1.5.0",
     "model_name": "HTMLModel",
     "state": {
      "_dom_classes": [],
      "_model_module": "@jupyter-widgets/controls",
      "_model_module_version": "1.5.0",
      "_model_name": "HTMLModel",
      "_view_count": null,
      "_view_module": "@jupyter-widgets/controls",
      "_view_module_version": "1.5.0",
      "_view_name": "HTMLView",
      "description": "",
      "description_tooltip": null,
      "layout": "IPY_MODEL_4f602e568b264c77b566d669eb23dab8",
      "placeholder": "​",
      "style": "IPY_MODEL_23dbfb2162184b16a73f9daabe57059c",
      "value": " 2000/2000 [04:42&lt;00:00,  8.92it/s]"
     }
    },
    "4cd3a77f668246f2ad8109e006eae444": {
     "model_module": "@jupyter-widgets/controls",
     "model_module_version": "1.5.0",
     "model_name": "DescriptionStyleModel",
     "state": {
      "_model_module": "@jupyter-widgets/controls",
      "_model_module_version": "1.5.0",
      "_model_name": "DescriptionStyleModel",
      "_view_count": null,
      "_view_module": "@jupyter-widgets/base",
      "_view_module_version": "1.2.0",
      "_view_name": "StyleView",
      "description_width": ""
     }
    },
    "4e80252a8d9a44c5a5f3ec9867c49678": {
     "model_module": "@jupyter-widgets/controls",
     "model_module_version": "1.5.0",
     "model_name": "ProgressStyleModel",
     "state": {
      "_model_module": "@jupyter-widgets/controls",
      "_model_module_version": "1.5.0",
      "_model_name": "ProgressStyleModel",
      "_view_count": null,
      "_view_module": "@jupyter-widgets/base",
      "_view_module_version": "1.2.0",
      "_view_name": "StyleView",
      "bar_color": null,
      "description_width": ""
     }
    },
    "4f382fa645b041b9b44cd6a29aef8c7e": {
     "model_module": "@jupyter-widgets/controls",
     "model_module_version": "1.5.0",
     "model_name": "FloatProgressModel",
     "state": {
      "_dom_classes": [],
      "_model_module": "@jupyter-widgets/controls",
      "_model_module_version": "1.5.0",
      "_model_name": "FloatProgressModel",
      "_view_count": null,
      "_view_module": "@jupyter-widgets/controls",
      "_view_module_version": "1.5.0",
      "_view_name": "ProgressView",
      "bar_style": "success",
      "description": "",
      "description_tooltip": null,
      "layout": "IPY_MODEL_1ec84aadce4d421f968effdc4714fe00",
      "max": 2000,
      "min": 0,
      "orientation": "horizontal",
      "style": "IPY_MODEL_6d7b9262453b49e8adbae630b2458191",
      "value": 2000
     }
    },
    "4f497347db8941a69619060022deb2b1": {
     "model_module": "@jupyter-widgets/base",
     "model_module_version": "1.2.0",
     "model_name": "LayoutModel",
     "state": {
      "_model_module": "@jupyter-widgets/base",
      "_model_module_version": "1.2.0",
      "_model_name": "LayoutModel",
      "_view_count": null,
      "_view_module": "@jupyter-widgets/base",
      "_view_module_version": "1.2.0",
      "_view_name": "LayoutView",
      "align_content": null,
      "align_items": null,
      "align_self": null,
      "border": null,
      "bottom": null,
      "display": null,
      "flex": null,
      "flex_flow": null,
      "grid_area": null,
      "grid_auto_columns": null,
      "grid_auto_flow": null,
      "grid_auto_rows": null,
      "grid_column": null,
      "grid_gap": null,
      "grid_row": null,
      "grid_template_areas": null,
      "grid_template_columns": null,
      "grid_template_rows": null,
      "height": null,
      "justify_content": null,
      "justify_items": null,
      "left": null,
      "margin": null,
      "max_height": null,
      "max_width": null,
      "min_height": null,
      "min_width": null,
      "object_fit": null,
      "object_position": null,
      "order": null,
      "overflow": null,
      "overflow_x": null,
      "overflow_y": null,
      "padding": null,
      "right": null,
      "top": null,
      "visibility": null,
      "width": null
     }
    },
    "4f602e568b264c77b566d669eb23dab8": {
     "model_module": "@jupyter-widgets/base",
     "model_module_version": "1.2.0",
     "model_name": "LayoutModel",
     "state": {
      "_model_module": "@jupyter-widgets/base",
      "_model_module_version": "1.2.0",
      "_model_name": "LayoutModel",
      "_view_count": null,
      "_view_module": "@jupyter-widgets/base",
      "_view_module_version": "1.2.0",
      "_view_name": "LayoutView",
      "align_content": null,
      "align_items": null,
      "align_self": null,
      "border": null,
      "bottom": null,
      "display": null,
      "flex": null,
      "flex_flow": null,
      "grid_area": null,
      "grid_auto_columns": null,
      "grid_auto_flow": null,
      "grid_auto_rows": null,
      "grid_column": null,
      "grid_gap": null,
      "grid_row": null,
      "grid_template_areas": null,
      "grid_template_columns": null,
      "grid_template_rows": null,
      "height": null,
      "justify_content": null,
      "justify_items": null,
      "left": null,
      "margin": null,
      "max_height": null,
      "max_width": null,
      "min_height": null,
      "min_width": null,
      "object_fit": null,
      "object_position": null,
      "order": null,
      "overflow": null,
      "overflow_x": null,
      "overflow_y": null,
      "padding": null,
      "right": null,
      "top": null,
      "visibility": null,
      "width": null
     }
    },
    "4fda1b49445f4ef893caa33ad97824bd": {
     "model_module": "@jupyter-widgets/base",
     "model_module_version": "1.2.0",
     "model_name": "LayoutModel",
     "state": {
      "_model_module": "@jupyter-widgets/base",
      "_model_module_version": "1.2.0",
      "_model_name": "LayoutModel",
      "_view_count": null,
      "_view_module": "@jupyter-widgets/base",
      "_view_module_version": "1.2.0",
      "_view_name": "LayoutView",
      "align_content": null,
      "align_items": null,
      "align_self": null,
      "border": null,
      "bottom": null,
      "display": null,
      "flex": null,
      "flex_flow": null,
      "grid_area": null,
      "grid_auto_columns": null,
      "grid_auto_flow": null,
      "grid_auto_rows": null,
      "grid_column": null,
      "grid_gap": null,
      "grid_row": null,
      "grid_template_areas": null,
      "grid_template_columns": null,
      "grid_template_rows": null,
      "height": null,
      "justify_content": null,
      "justify_items": null,
      "left": null,
      "margin": null,
      "max_height": null,
      "max_width": null,
      "min_height": null,
      "min_width": null,
      "object_fit": null,
      "object_position": null,
      "order": null,
      "overflow": null,
      "overflow_x": null,
      "overflow_y": null,
      "padding": null,
      "right": null,
      "top": null,
      "visibility": null,
      "width": null
     }
    },
    "5213a77a237d41f2b9ffe69b2ba9fb31": {
     "model_module": "@jupyter-widgets/base",
     "model_module_version": "1.2.0",
     "model_name": "LayoutModel",
     "state": {
      "_model_module": "@jupyter-widgets/base",
      "_model_module_version": "1.2.0",
      "_model_name": "LayoutModel",
      "_view_count": null,
      "_view_module": "@jupyter-widgets/base",
      "_view_module_version": "1.2.0",
      "_view_name": "LayoutView",
      "align_content": null,
      "align_items": null,
      "align_self": null,
      "border": null,
      "bottom": null,
      "display": null,
      "flex": null,
      "flex_flow": null,
      "grid_area": null,
      "grid_auto_columns": null,
      "grid_auto_flow": null,
      "grid_auto_rows": null,
      "grid_column": null,
      "grid_gap": null,
      "grid_row": null,
      "grid_template_areas": null,
      "grid_template_columns": null,
      "grid_template_rows": null,
      "height": null,
      "justify_content": null,
      "justify_items": null,
      "left": null,
      "margin": null,
      "max_height": null,
      "max_width": null,
      "min_height": null,
      "min_width": null,
      "object_fit": null,
      "object_position": null,
      "order": null,
      "overflow": null,
      "overflow_x": null,
      "overflow_y": null,
      "padding": null,
      "right": null,
      "top": null,
      "visibility": null,
      "width": null
     }
    },
    "55feadb13416498dbf17ab9de2bf9058": {
     "model_module": "@jupyter-widgets/controls",
     "model_module_version": "1.5.0",
     "model_name": "DescriptionStyleModel",
     "state": {
      "_model_module": "@jupyter-widgets/controls",
      "_model_module_version": "1.5.0",
      "_model_name": "DescriptionStyleModel",
      "_view_count": null,
      "_view_module": "@jupyter-widgets/base",
      "_view_module_version": "1.2.0",
      "_view_name": "StyleView",
      "description_width": ""
     }
    },
    "5b0f7b08e0ad424292f8a52180a2db20": {
     "model_module": "@jupyter-widgets/controls",
     "model_module_version": "1.5.0",
     "model_name": "HBoxModel",
     "state": {
      "_dom_classes": [],
      "_model_module": "@jupyter-widgets/controls",
      "_model_module_version": "1.5.0",
      "_model_name": "HBoxModel",
      "_view_count": null,
      "_view_module": "@jupyter-widgets/controls",
      "_view_module_version": "1.5.0",
      "_view_name": "HBoxView",
      "box_style": "",
      "children": [
       "IPY_MODEL_6efa9a89a213478183c0e9381baade08",
       "IPY_MODEL_690667295736417d8723dae804de0b54",
       "IPY_MODEL_220b078a03944f4388942b1c822da395"
      ],
      "layout": "IPY_MODEL_92cb77d343d740e89b6a95cccc9ab9e4"
     }
    },
    "5bec14f1354b4a79924efb20c707bb18": {
     "model_module": "@jupyter-widgets/base",
     "model_module_version": "1.2.0",
     "model_name": "LayoutModel",
     "state": {
      "_model_module": "@jupyter-widgets/base",
      "_model_module_version": "1.2.0",
      "_model_name": "LayoutModel",
      "_view_count": null,
      "_view_module": "@jupyter-widgets/base",
      "_view_module_version": "1.2.0",
      "_view_name": "LayoutView",
      "align_content": null,
      "align_items": null,
      "align_self": null,
      "border": null,
      "bottom": null,
      "display": null,
      "flex": null,
      "flex_flow": null,
      "grid_area": null,
      "grid_auto_columns": null,
      "grid_auto_flow": null,
      "grid_auto_rows": null,
      "grid_column": null,
      "grid_gap": null,
      "grid_row": null,
      "grid_template_areas": null,
      "grid_template_columns": null,
      "grid_template_rows": null,
      "height": null,
      "justify_content": null,
      "justify_items": null,
      "left": null,
      "margin": null,
      "max_height": null,
      "max_width": null,
      "min_height": null,
      "min_width": null,
      "object_fit": null,
      "object_position": null,
      "order": null,
      "overflow": null,
      "overflow_x": null,
      "overflow_y": null,
      "padding": null,
      "right": null,
      "top": null,
      "visibility": null,
      "width": null
     }
    },
    "5d2ccb37877a49c99cef5049a7f6a020": {
     "model_module": "@jupyter-widgets/controls",
     "model_module_version": "1.5.0",
     "model_name": "HTMLModel",
     "state": {
      "_dom_classes": [],
      "_model_module": "@jupyter-widgets/controls",
      "_model_module_version": "1.5.0",
      "_model_name": "HTMLModel",
      "_view_count": null,
      "_view_module": "@jupyter-widgets/controls",
      "_view_module_version": "1.5.0",
      "_view_name": "HTMLView",
      "description": "",
      "description_tooltip": null,
      "layout": "IPY_MODEL_668de2f9c0254c638317fcc9aee10745",
      "placeholder": "​",
      "style": "IPY_MODEL_958a9ffde0aa4917b078b949ac21832f",
      "value": " 77%"
     }
    },
    "5e54cb22856040f6903120431f2b1b21": {
     "model_module": "@jupyter-widgets/base",
     "model_module_version": "1.2.0",
     "model_name": "LayoutModel",
     "state": {
      "_model_module": "@jupyter-widgets/base",
      "_model_module_version": "1.2.0",
      "_model_name": "LayoutModel",
      "_view_count": null,
      "_view_module": "@jupyter-widgets/base",
      "_view_module_version": "1.2.0",
      "_view_name": "LayoutView",
      "align_content": null,
      "align_items": null,
      "align_self": null,
      "border": null,
      "bottom": null,
      "display": null,
      "flex": null,
      "flex_flow": null,
      "grid_area": null,
      "grid_auto_columns": null,
      "grid_auto_flow": null,
      "grid_auto_rows": null,
      "grid_column": null,
      "grid_gap": null,
      "grid_row": null,
      "grid_template_areas": null,
      "grid_template_columns": null,
      "grid_template_rows": null,
      "height": null,
      "justify_content": null,
      "justify_items": null,
      "left": null,
      "margin": null,
      "max_height": null,
      "max_width": null,
      "min_height": null,
      "min_width": null,
      "object_fit": null,
      "object_position": null,
      "order": null,
      "overflow": null,
      "overflow_x": null,
      "overflow_y": null,
      "padding": null,
      "right": null,
      "top": null,
      "visibility": null,
      "width": null
     }
    },
    "5f4e8286d7e64f10a462c3df6e87eaa4": {
     "model_module": "@jupyter-widgets/controls",
     "model_module_version": "1.5.0",
     "model_name": "HTMLModel",
     "state": {
      "_dom_classes": [],
      "_model_module": "@jupyter-widgets/controls",
      "_model_module_version": "1.5.0",
      "_model_name": "HTMLModel",
      "_view_count": null,
      "_view_module": "@jupyter-widgets/controls",
      "_view_module_version": "1.5.0",
      "_view_name": "HTMLView",
      "description": "",
      "description_tooltip": null,
      "layout": "IPY_MODEL_e7b880f0d08743389d75afd708af9422",
      "placeholder": "​",
      "style": "IPY_MODEL_e810b66257de49ae83426035e335b76c",
      "value": "  1%"
     }
    },
    "61959c8815d6451d888f179710dbd108": {
     "model_module": "@jupyter-widgets/base",
     "model_module_version": "1.2.0",
     "model_name": "LayoutModel",
     "state": {
      "_model_module": "@jupyter-widgets/base",
      "_model_module_version": "1.2.0",
      "_model_name": "LayoutModel",
      "_view_count": null,
      "_view_module": "@jupyter-widgets/base",
      "_view_module_version": "1.2.0",
      "_view_name": "LayoutView",
      "align_content": null,
      "align_items": null,
      "align_self": null,
      "border": null,
      "bottom": null,
      "display": null,
      "flex": null,
      "flex_flow": null,
      "grid_area": null,
      "grid_auto_columns": null,
      "grid_auto_flow": null,
      "grid_auto_rows": null,
      "grid_column": null,
      "grid_gap": null,
      "grid_row": null,
      "grid_template_areas": null,
      "grid_template_columns": null,
      "grid_template_rows": null,
      "height": null,
      "justify_content": null,
      "justify_items": null,
      "left": null,
      "margin": null,
      "max_height": null,
      "max_width": null,
      "min_height": null,
      "min_width": null,
      "object_fit": null,
      "object_position": null,
      "order": null,
      "overflow": null,
      "overflow_x": null,
      "overflow_y": null,
      "padding": null,
      "right": null,
      "top": null,
      "visibility": null,
      "width": null
     }
    },
    "6221dff7e7a5402384785cbbecdda32f": {
     "model_module": "@jupyter-widgets/base",
     "model_module_version": "1.2.0",
     "model_name": "LayoutModel",
     "state": {
      "_model_module": "@jupyter-widgets/base",
      "_model_module_version": "1.2.0",
      "_model_name": "LayoutModel",
      "_view_count": null,
      "_view_module": "@jupyter-widgets/base",
      "_view_module_version": "1.2.0",
      "_view_name": "LayoutView",
      "align_content": null,
      "align_items": null,
      "align_self": null,
      "border": null,
      "bottom": null,
      "display": null,
      "flex": null,
      "flex_flow": null,
      "grid_area": null,
      "grid_auto_columns": null,
      "grid_auto_flow": null,
      "grid_auto_rows": null,
      "grid_column": null,
      "grid_gap": null,
      "grid_row": null,
      "grid_template_areas": null,
      "grid_template_columns": null,
      "grid_template_rows": null,
      "height": null,
      "justify_content": null,
      "justify_items": null,
      "left": null,
      "margin": null,
      "max_height": null,
      "max_width": null,
      "min_height": null,
      "min_width": null,
      "object_fit": null,
      "object_position": null,
      "order": null,
      "overflow": null,
      "overflow_x": null,
      "overflow_y": null,
      "padding": null,
      "right": null,
      "top": null,
      "visibility": null,
      "width": null
     }
    },
    "63befeb87b7b4a5aa40b3efad107cc52": {
     "model_module": "@jupyter-widgets/controls",
     "model_module_version": "1.5.0",
     "model_name": "FloatProgressModel",
     "state": {
      "_dom_classes": [],
      "_model_module": "@jupyter-widgets/controls",
      "_model_module_version": "1.5.0",
      "_model_name": "FloatProgressModel",
      "_view_count": null,
      "_view_module": "@jupyter-widgets/controls",
      "_view_module_version": "1.5.0",
      "_view_name": "ProgressView",
      "bar_style": "success",
      "description": "",
      "description_tooltip": null,
      "layout": "IPY_MODEL_d4204b23c0474092b86c6debb47c651c",
      "max": 2000,
      "min": 0,
      "orientation": "horizontal",
      "style": "IPY_MODEL_30df35f3afa54bf49397a3adab8fac13",
      "value": 2000
     }
    },
    "668de2f9c0254c638317fcc9aee10745": {
     "model_module": "@jupyter-widgets/base",
     "model_module_version": "1.2.0",
     "model_name": "LayoutModel",
     "state": {
      "_model_module": "@jupyter-widgets/base",
      "_model_module_version": "1.2.0",
      "_model_name": "LayoutModel",
      "_view_count": null,
      "_view_module": "@jupyter-widgets/base",
      "_view_module_version": "1.2.0",
      "_view_name": "LayoutView",
      "align_content": null,
      "align_items": null,
      "align_self": null,
      "border": null,
      "bottom": null,
      "display": null,
      "flex": null,
      "flex_flow": null,
      "grid_area": null,
      "grid_auto_columns": null,
      "grid_auto_flow": null,
      "grid_auto_rows": null,
      "grid_column": null,
      "grid_gap": null,
      "grid_row": null,
      "grid_template_areas": null,
      "grid_template_columns": null,
      "grid_template_rows": null,
      "height": null,
      "justify_content": null,
      "justify_items": null,
      "left": null,
      "margin": null,
      "max_height": null,
      "max_width": null,
      "min_height": null,
      "min_width": null,
      "object_fit": null,
      "object_position": null,
      "order": null,
      "overflow": null,
      "overflow_x": null,
      "overflow_y": null,
      "padding": null,
      "right": null,
      "top": null,
      "visibility": null,
      "width": null
     }
    },
    "67dcc5f181b947ec98dd9607d1ab3aba": {
     "model_module": "@jupyter-widgets/controls",
     "model_module_version": "1.5.0",
     "model_name": "FloatProgressModel",
     "state": {
      "_dom_classes": [],
      "_model_module": "@jupyter-widgets/controls",
      "_model_module_version": "1.5.0",
      "_model_name": "FloatProgressModel",
      "_view_count": null,
      "_view_module": "@jupyter-widgets/controls",
      "_view_module_version": "1.5.0",
      "_view_name": "ProgressView",
      "bar_style": "",
      "description": "",
      "description_tooltip": null,
      "layout": "IPY_MODEL_42a8eb5d314641e5a455e8ebeae2e2e4",
      "max": 2000,
      "min": 0,
      "orientation": "horizontal",
      "style": "IPY_MODEL_4e80252a8d9a44c5a5f3ec9867c49678",
      "value": 17
     }
    },
    "690667295736417d8723dae804de0b54": {
     "model_module": "@jupyter-widgets/controls",
     "model_module_version": "1.5.0",
     "model_name": "FloatProgressModel",
     "state": {
      "_dom_classes": [],
      "_model_module": "@jupyter-widgets/controls",
      "_model_module_version": "1.5.0",
      "_model_name": "FloatProgressModel",
      "_view_count": null,
      "_view_module": "@jupyter-widgets/controls",
      "_view_module_version": "1.5.0",
      "_view_name": "ProgressView",
      "bar_style": "success",
      "description": "",
      "description_tooltip": null,
      "layout": "IPY_MODEL_01719053ccc74b399c35083f10586e9f",
      "max": 2000,
      "min": 0,
      "orientation": "horizontal",
      "style": "IPY_MODEL_38e0e3dafcce4b24b9e3ed93575b89ee",
      "value": 2000
     }
    },
    "6942fe3dbaf24f3ea8e7e341ba8db83a": {
     "model_module": "@jupyter-widgets/controls",
     "model_module_version": "1.5.0",
     "model_name": "ProgressStyleModel",
     "state": {
      "_model_module": "@jupyter-widgets/controls",
      "_model_module_version": "1.5.0",
      "_model_name": "ProgressStyleModel",
      "_view_count": null,
      "_view_module": "@jupyter-widgets/base",
      "_view_module_version": "1.2.0",
      "_view_name": "StyleView",
      "bar_color": null,
      "description_width": ""
     }
    },
    "69e0534fe07145a2847b170dbcdfeb8c": {
     "model_module": "@jupyter-widgets/base",
     "model_module_version": "1.2.0",
     "model_name": "LayoutModel",
     "state": {
      "_model_module": "@jupyter-widgets/base",
      "_model_module_version": "1.2.0",
      "_model_name": "LayoutModel",
      "_view_count": null,
      "_view_module": "@jupyter-widgets/base",
      "_view_module_version": "1.2.0",
      "_view_name": "LayoutView",
      "align_content": null,
      "align_items": null,
      "align_self": null,
      "border": null,
      "bottom": null,
      "display": null,
      "flex": null,
      "flex_flow": null,
      "grid_area": null,
      "grid_auto_columns": null,
      "grid_auto_flow": null,
      "grid_auto_rows": null,
      "grid_column": null,
      "grid_gap": null,
      "grid_row": null,
      "grid_template_areas": null,
      "grid_template_columns": null,
      "grid_template_rows": null,
      "height": null,
      "justify_content": null,
      "justify_items": null,
      "left": null,
      "margin": null,
      "max_height": null,
      "max_width": null,
      "min_height": null,
      "min_width": null,
      "object_fit": null,
      "object_position": null,
      "order": null,
      "overflow": null,
      "overflow_x": null,
      "overflow_y": null,
      "padding": null,
      "right": null,
      "top": null,
      "visibility": null,
      "width": null
     }
    },
    "6cb579c2390545bebc60659af1f492e2": {
     "model_module": "@jupyter-widgets/controls",
     "model_module_version": "1.5.0",
     "model_name": "DescriptionStyleModel",
     "state": {
      "_model_module": "@jupyter-widgets/controls",
      "_model_module_version": "1.5.0",
      "_model_name": "DescriptionStyleModel",
      "_view_count": null,
      "_view_module": "@jupyter-widgets/base",
      "_view_module_version": "1.2.0",
      "_view_name": "StyleView",
      "description_width": ""
     }
    },
    "6d7b9262453b49e8adbae630b2458191": {
     "model_module": "@jupyter-widgets/controls",
     "model_module_version": "1.5.0",
     "model_name": "ProgressStyleModel",
     "state": {
      "_model_module": "@jupyter-widgets/controls",
      "_model_module_version": "1.5.0",
      "_model_name": "ProgressStyleModel",
      "_view_count": null,
      "_view_module": "@jupyter-widgets/base",
      "_view_module_version": "1.2.0",
      "_view_name": "StyleView",
      "bar_color": null,
      "description_width": ""
     }
    },
    "6efa9a89a213478183c0e9381baade08": {
     "model_module": "@jupyter-widgets/controls",
     "model_module_version": "1.5.0",
     "model_name": "HTMLModel",
     "state": {
      "_dom_classes": [],
      "_model_module": "@jupyter-widgets/controls",
      "_model_module_version": "1.5.0",
      "_model_name": "HTMLModel",
      "_view_count": null,
      "_view_module": "@jupyter-widgets/controls",
      "_view_module_version": "1.5.0",
      "_view_name": "HTMLView",
      "description": "",
      "description_tooltip": null,
      "layout": "IPY_MODEL_9d68c382144046cdac34b2412e4f7283",
      "placeholder": "​",
      "style": "IPY_MODEL_0ee75559c58e4b9aa5d62f38372b740b",
      "value": "100%"
     }
    },
    "779c4d80f05c47389b3bec6de13f7e67": {
     "model_module": "@jupyter-widgets/base",
     "model_module_version": "1.2.0",
     "model_name": "LayoutModel",
     "state": {
      "_model_module": "@jupyter-widgets/base",
      "_model_module_version": "1.2.0",
      "_model_name": "LayoutModel",
      "_view_count": null,
      "_view_module": "@jupyter-widgets/base",
      "_view_module_version": "1.2.0",
      "_view_name": "LayoutView",
      "align_content": null,
      "align_items": null,
      "align_self": null,
      "border": null,
      "bottom": null,
      "display": null,
      "flex": null,
      "flex_flow": null,
      "grid_area": null,
      "grid_auto_columns": null,
      "grid_auto_flow": null,
      "grid_auto_rows": null,
      "grid_column": null,
      "grid_gap": null,
      "grid_row": null,
      "grid_template_areas": null,
      "grid_template_columns": null,
      "grid_template_rows": null,
      "height": null,
      "justify_content": null,
      "justify_items": null,
      "left": null,
      "margin": null,
      "max_height": null,
      "max_width": null,
      "min_height": null,
      "min_width": null,
      "object_fit": null,
      "object_position": null,
      "order": null,
      "overflow": null,
      "overflow_x": null,
      "overflow_y": null,
      "padding": null,
      "right": null,
      "top": null,
      "visibility": null,
      "width": null
     }
    },
    "77e7499e38b14e2a9180e189342833df": {
     "model_module": "@jupyter-widgets/base",
     "model_module_version": "1.2.0",
     "model_name": "LayoutModel",
     "state": {
      "_model_module": "@jupyter-widgets/base",
      "_model_module_version": "1.2.0",
      "_model_name": "LayoutModel",
      "_view_count": null,
      "_view_module": "@jupyter-widgets/base",
      "_view_module_version": "1.2.0",
      "_view_name": "LayoutView",
      "align_content": null,
      "align_items": null,
      "align_self": null,
      "border": null,
      "bottom": null,
      "display": null,
      "flex": null,
      "flex_flow": null,
      "grid_area": null,
      "grid_auto_columns": null,
      "grid_auto_flow": null,
      "grid_auto_rows": null,
      "grid_column": null,
      "grid_gap": null,
      "grid_row": null,
      "grid_template_areas": null,
      "grid_template_columns": null,
      "grid_template_rows": null,
      "height": null,
      "justify_content": null,
      "justify_items": null,
      "left": null,
      "margin": null,
      "max_height": null,
      "max_width": null,
      "min_height": null,
      "min_width": null,
      "object_fit": null,
      "object_position": null,
      "order": null,
      "overflow": null,
      "overflow_x": null,
      "overflow_y": null,
      "padding": null,
      "right": null,
      "top": null,
      "visibility": null,
      "width": null
     }
    },
    "7b10834ecaa948e7b2bc425ca7edaab8": {
     "model_module": "@jupyter-widgets/controls",
     "model_module_version": "1.5.0",
     "model_name": "HTMLModel",
     "state": {
      "_dom_classes": [],
      "_model_module": "@jupyter-widgets/controls",
      "_model_module_version": "1.5.0",
      "_model_name": "HTMLModel",
      "_view_count": null,
      "_view_module": "@jupyter-widgets/controls",
      "_view_module_version": "1.5.0",
      "_view_name": "HTMLView",
      "description": "",
      "description_tooltip": null,
      "layout": "IPY_MODEL_973bf6f9e3b749198f5ac5d069ccdd55",
      "placeholder": "​",
      "style": "IPY_MODEL_c5dd9bd5af874bcb850b4ba46a780e59",
      "value": "100%"
     }
    },
    "7d0e7c9d0754411e9760fe7df3967879": {
     "model_module": "@jupyter-widgets/controls",
     "model_module_version": "1.5.0",
     "model_name": "HBoxModel",
     "state": {
      "_dom_classes": [],
      "_model_module": "@jupyter-widgets/controls",
      "_model_module_version": "1.5.0",
      "_model_name": "HBoxModel",
      "_view_count": null,
      "_view_module": "@jupyter-widgets/controls",
      "_view_module_version": "1.5.0",
      "_view_name": "HBoxView",
      "box_style": "",
      "children": [
       "IPY_MODEL_7b10834ecaa948e7b2bc425ca7edaab8",
       "IPY_MODEL_21790f207e1e4266a479cce3233ffdec",
       "IPY_MODEL_46ebde0aba2049938a3932663115a0d6"
      ],
      "layout": "IPY_MODEL_03f6293c7f314a81a9fe660948703b7f"
     }
    },
    "853219f180b44da9802848fb7abd8f95": {
     "model_module": "@jupyter-widgets/controls",
     "model_module_version": "1.5.0",
     "model_name": "HTMLModel",
     "state": {
      "_dom_classes": [],
      "_model_module": "@jupyter-widgets/controls",
      "_model_module_version": "1.5.0",
      "_model_name": "HTMLModel",
      "_view_count": null,
      "_view_module": "@jupyter-widgets/controls",
      "_view_module_version": "1.5.0",
      "_view_name": "HTMLView",
      "description": "",
      "description_tooltip": null,
      "layout": "IPY_MODEL_d070d8b13ef646deb39140f132f63529",
      "placeholder": "​",
      "style": "IPY_MODEL_2cfb3c3d10ce4fc69867dc9f1625ef32",
      "value": "100%"
     }
    },
    "86f6c00744a340dfb78f4d343a1b9b9e": {
     "model_module": "@jupyter-widgets/controls",
     "model_module_version": "1.5.0",
     "model_name": "ProgressStyleModel",
     "state": {
      "_model_module": "@jupyter-widgets/controls",
      "_model_module_version": "1.5.0",
      "_model_name": "ProgressStyleModel",
      "_view_count": null,
      "_view_module": "@jupyter-widgets/base",
      "_view_module_version": "1.2.0",
      "_view_name": "StyleView",
      "bar_color": null,
      "description_width": ""
     }
    },
    "8738ed9d505643ba9f1c5f2599e79a64": {
     "model_module": "@jupyter-widgets/controls",
     "model_module_version": "1.5.0",
     "model_name": "HBoxModel",
     "state": {
      "_dom_classes": [],
      "_model_module": "@jupyter-widgets/controls",
      "_model_module_version": "1.5.0",
      "_model_name": "HBoxModel",
      "_view_count": null,
      "_view_module": "@jupyter-widgets/controls",
      "_view_module_version": "1.5.0",
      "_view_name": "HBoxView",
      "box_style": "",
      "children": [
       "IPY_MODEL_853219f180b44da9802848fb7abd8f95",
       "IPY_MODEL_a5978cf200e144fb985dacfc1fde8fd3",
       "IPY_MODEL_b481e336f57a4e10926e71bc19fc4c80"
      ],
      "layout": "IPY_MODEL_db369f0ee40e46d9910dde9435fe097b"
     }
    },
    "8937ccc6451b4c419087d95996b3b16a": {
     "model_module": "@jupyter-widgets/base",
     "model_module_version": "1.2.0",
     "model_name": "LayoutModel",
     "state": {
      "_model_module": "@jupyter-widgets/base",
      "_model_module_version": "1.2.0",
      "_model_name": "LayoutModel",
      "_view_count": null,
      "_view_module": "@jupyter-widgets/base",
      "_view_module_version": "1.2.0",
      "_view_name": "LayoutView",
      "align_content": null,
      "align_items": null,
      "align_self": null,
      "border": null,
      "bottom": null,
      "display": null,
      "flex": null,
      "flex_flow": null,
      "grid_area": null,
      "grid_auto_columns": null,
      "grid_auto_flow": null,
      "grid_auto_rows": null,
      "grid_column": null,
      "grid_gap": null,
      "grid_row": null,
      "grid_template_areas": null,
      "grid_template_columns": null,
      "grid_template_rows": null,
      "height": null,
      "justify_content": null,
      "justify_items": null,
      "left": null,
      "margin": null,
      "max_height": null,
      "max_width": null,
      "min_height": null,
      "min_width": null,
      "object_fit": null,
      "object_position": null,
      "order": null,
      "overflow": null,
      "overflow_x": null,
      "overflow_y": null,
      "padding": null,
      "right": null,
      "top": null,
      "visibility": null,
      "width": null
     }
    },
    "8c8f3d8f61434fbdaa6cc04287057506": {
     "model_module": "@jupyter-widgets/controls",
     "model_module_version": "1.5.0",
     "model_name": "HTMLModel",
     "state": {
      "_dom_classes": [],
      "_model_module": "@jupyter-widgets/controls",
      "_model_module_version": "1.5.0",
      "_model_name": "HTMLModel",
      "_view_count": null,
      "_view_module": "@jupyter-widgets/controls",
      "_view_module_version": "1.5.0",
      "_view_name": "HTMLView",
      "description": "",
      "description_tooltip": null,
      "layout": "IPY_MODEL_6221dff7e7a5402384785cbbecdda32f",
      "placeholder": "​",
      "style": "IPY_MODEL_4cd3a77f668246f2ad8109e006eae444",
      "value": " 2/3 [5:59:53&lt;3:00:04, 10804.30s/it]"
     }
    },
    "8c992c467259442183df2bf2f843ae3a": {
     "model_module": "@jupyter-widgets/controls",
     "model_module_version": "1.5.0",
     "model_name": "FloatProgressModel",
     "state": {
      "_dom_classes": [],
      "_model_module": "@jupyter-widgets/controls",
      "_model_module_version": "1.5.0",
      "_model_name": "FloatProgressModel",
      "_view_count": null,
      "_view_module": "@jupyter-widgets/controls",
      "_view_module_version": "1.5.0",
      "_view_name": "ProgressView",
      "bar_style": "success",
      "description": "",
      "description_tooltip": null,
      "layout": "IPY_MODEL_ccb4367cc08c4d10993c554f15f2ea0d",
      "max": 2000,
      "min": 0,
      "orientation": "horizontal",
      "style": "IPY_MODEL_86f6c00744a340dfb78f4d343a1b9b9e",
      "value": 2000
     }
    },
    "92cb77d343d740e89b6a95cccc9ab9e4": {
     "model_module": "@jupyter-widgets/base",
     "model_module_version": "1.2.0",
     "model_name": "LayoutModel",
     "state": {
      "_model_module": "@jupyter-widgets/base",
      "_model_module_version": "1.2.0",
      "_model_name": "LayoutModel",
      "_view_count": null,
      "_view_module": "@jupyter-widgets/base",
      "_view_module_version": "1.2.0",
      "_view_name": "LayoutView",
      "align_content": null,
      "align_items": null,
      "align_self": null,
      "border": null,
      "bottom": null,
      "display": null,
      "flex": null,
      "flex_flow": null,
      "grid_area": null,
      "grid_auto_columns": null,
      "grid_auto_flow": null,
      "grid_auto_rows": null,
      "grid_column": null,
      "grid_gap": null,
      "grid_row": null,
      "grid_template_areas": null,
      "grid_template_columns": null,
      "grid_template_rows": null,
      "height": null,
      "justify_content": null,
      "justify_items": null,
      "left": null,
      "margin": null,
      "max_height": null,
      "max_width": null,
      "min_height": null,
      "min_width": null,
      "object_fit": null,
      "object_position": null,
      "order": null,
      "overflow": null,
      "overflow_x": null,
      "overflow_y": null,
      "padding": null,
      "right": null,
      "top": null,
      "visibility": null,
      "width": null
     }
    },
    "956c9f10942c4dd9b08282eccc0a5528": {
     "model_module": "@jupyter-widgets/controls",
     "model_module_version": "1.5.0",
     "model_name": "DescriptionStyleModel",
     "state": {
      "_model_module": "@jupyter-widgets/controls",
      "_model_module_version": "1.5.0",
      "_model_name": "DescriptionStyleModel",
      "_view_count": null,
      "_view_module": "@jupyter-widgets/base",
      "_view_module_version": "1.2.0",
      "_view_name": "StyleView",
      "description_width": ""
     }
    },
    "958a9ffde0aa4917b078b949ac21832f": {
     "model_module": "@jupyter-widgets/controls",
     "model_module_version": "1.5.0",
     "model_name": "DescriptionStyleModel",
     "state": {
      "_model_module": "@jupyter-widgets/controls",
      "_model_module_version": "1.5.0",
      "_model_name": "DescriptionStyleModel",
      "_view_count": null,
      "_view_module": "@jupyter-widgets/base",
      "_view_module_version": "1.2.0",
      "_view_name": "StyleView",
      "description_width": ""
     }
    },
    "973bf6f9e3b749198f5ac5d069ccdd55": {
     "model_module": "@jupyter-widgets/base",
     "model_module_version": "1.2.0",
     "model_name": "LayoutModel",
     "state": {
      "_model_module": "@jupyter-widgets/base",
      "_model_module_version": "1.2.0",
      "_model_name": "LayoutModel",
      "_view_count": null,
      "_view_module": "@jupyter-widgets/base",
      "_view_module_version": "1.2.0",
      "_view_name": "LayoutView",
      "align_content": null,
      "align_items": null,
      "align_self": null,
      "border": null,
      "bottom": null,
      "display": null,
      "flex": null,
      "flex_flow": null,
      "grid_area": null,
      "grid_auto_columns": null,
      "grid_auto_flow": null,
      "grid_auto_rows": null,
      "grid_column": null,
      "grid_gap": null,
      "grid_row": null,
      "grid_template_areas": null,
      "grid_template_columns": null,
      "grid_template_rows": null,
      "height": null,
      "justify_content": null,
      "justify_items": null,
      "left": null,
      "margin": null,
      "max_height": null,
      "max_width": null,
      "min_height": null,
      "min_width": null,
      "object_fit": null,
      "object_position": null,
      "order": null,
      "overflow": null,
      "overflow_x": null,
      "overflow_y": null,
      "padding": null,
      "right": null,
      "top": null,
      "visibility": null,
      "width": null
     }
    },
    "98824b8546204238b69df9deaf8597c4": {
     "model_module": "@jupyter-widgets/controls",
     "model_module_version": "1.5.0",
     "model_name": "FloatProgressModel",
     "state": {
      "_dom_classes": [],
      "_model_module": "@jupyter-widgets/controls",
      "_model_module_version": "1.5.0",
      "_model_name": "FloatProgressModel",
      "_view_count": null,
      "_view_module": "@jupyter-widgets/controls",
      "_view_module_version": "1.5.0",
      "_view_name": "ProgressView",
      "bar_style": "",
      "description": "",
      "description_tooltip": null,
      "layout": "IPY_MODEL_2a9b9bff69eb4b3ab1e82482793cbb9e",
      "max": 3,
      "min": 0,
      "orientation": "horizontal",
      "style": "IPY_MODEL_e79c666983e14d9b8c32b4c17f270f5e",
      "value": 2
     }
    },
    "9d68c382144046cdac34b2412e4f7283": {
     "model_module": "@jupyter-widgets/base",
     "model_module_version": "1.2.0",
     "model_name": "LayoutModel",
     "state": {
      "_model_module": "@jupyter-widgets/base",
      "_model_module_version": "1.2.0",
      "_model_name": "LayoutModel",
      "_view_count": null,
      "_view_module": "@jupyter-widgets/base",
      "_view_module_version": "1.2.0",
      "_view_name": "LayoutView",
      "align_content": null,
      "align_items": null,
      "align_self": null,
      "border": null,
      "bottom": null,
      "display": null,
      "flex": null,
      "flex_flow": null,
      "grid_area": null,
      "grid_auto_columns": null,
      "grid_auto_flow": null,
      "grid_auto_rows": null,
      "grid_column": null,
      "grid_gap": null,
      "grid_row": null,
      "grid_template_areas": null,
      "grid_template_columns": null,
      "grid_template_rows": null,
      "height": null,
      "justify_content": null,
      "justify_items": null,
      "left": null,
      "margin": null,
      "max_height": null,
      "max_width": null,
      "min_height": null,
      "min_width": null,
      "object_fit": null,
      "object_position": null,
      "order": null,
      "overflow": null,
      "overflow_x": null,
      "overflow_y": null,
      "padding": null,
      "right": null,
      "top": null,
      "visibility": null,
      "width": null
     }
    },
    "9e72103e02f4450599512fbbe45ecd95": {
     "model_module": "@jupyter-widgets/controls",
     "model_module_version": "1.5.0",
     "model_name": "HTMLModel",
     "state": {
      "_dom_classes": [],
      "_model_module": "@jupyter-widgets/controls",
      "_model_module_version": "1.5.0",
      "_model_name": "HTMLModel",
      "_view_count": null,
      "_view_module": "@jupyter-widgets/controls",
      "_view_module_version": "1.5.0",
      "_view_name": "HTMLView",
      "description": "",
      "description_tooltip": null,
      "layout": "IPY_MODEL_4fda1b49445f4ef893caa33ad97824bd",
      "placeholder": "​",
      "style": "IPY_MODEL_f860edf128d24469b8e5a39f37e33935",
      "value": " 67%"
     }
    },
    "a41e15b64592459db083014ab3520697": {
     "model_module": "@jupyter-widgets/controls",
     "model_module_version": "1.5.0",
     "model_name": "HTMLModel",
     "state": {
      "_dom_classes": [],
      "_model_module": "@jupyter-widgets/controls",
      "_model_module_version": "1.5.0",
      "_model_name": "HTMLModel",
      "_view_count": null,
      "_view_module": "@jupyter-widgets/controls",
      "_view_module_version": "1.5.0",
      "_view_name": "HTMLView",
      "description": "",
      "description_tooltip": null,
      "layout": "IPY_MODEL_69e0534fe07145a2847b170dbcdfeb8c",
      "placeholder": "​",
      "style": "IPY_MODEL_e70ebbfe9349478cb393c2b7552e086e",
      "value": " 17/2000 [01:36&lt;3:00:25,  5.46s/it]"
     }
    },
    "a585c36f009348e78c73a42dc7a1e9c8": {
     "model_module": "@jupyter-widgets/base",
     "model_module_version": "1.2.0",
     "model_name": "LayoutModel",
     "state": {
      "_model_module": "@jupyter-widgets/base",
      "_model_module_version": "1.2.0",
      "_model_name": "LayoutModel",
      "_view_count": null,
      "_view_module": "@jupyter-widgets/base",
      "_view_module_version": "1.2.0",
      "_view_name": "LayoutView",
      "align_content": null,
      "align_items": null,
      "align_self": null,
      "border": null,
      "bottom": null,
      "display": null,
      "flex": null,
      "flex_flow": null,
      "grid_area": null,
      "grid_auto_columns": null,
      "grid_auto_flow": null,
      "grid_auto_rows": null,
      "grid_column": null,
      "grid_gap": null,
      "grid_row": null,
      "grid_template_areas": null,
      "grid_template_columns": null,
      "grid_template_rows": null,
      "height": null,
      "justify_content": null,
      "justify_items": null,
      "left": null,
      "margin": null,
      "max_height": null,
      "max_width": null,
      "min_height": null,
      "min_width": null,
      "object_fit": null,
      "object_position": null,
      "order": null,
      "overflow": null,
      "overflow_x": null,
      "overflow_y": null,
      "padding": null,
      "right": null,
      "top": null,
      "visibility": null,
      "width": null
     }
    },
    "a5978cf200e144fb985dacfc1fde8fd3": {
     "model_module": "@jupyter-widgets/controls",
     "model_module_version": "1.5.0",
     "model_name": "FloatProgressModel",
     "state": {
      "_dom_classes": [],
      "_model_module": "@jupyter-widgets/controls",
      "_model_module_version": "1.5.0",
      "_model_name": "FloatProgressModel",
      "_view_count": null,
      "_view_module": "@jupyter-widgets/controls",
      "_view_module_version": "1.5.0",
      "_view_name": "ProgressView",
      "bar_style": "success",
      "description": "",
      "description_tooltip": null,
      "layout": "IPY_MODEL_4f497347db8941a69619060022deb2b1",
      "max": 2000,
      "min": 0,
      "orientation": "horizontal",
      "style": "IPY_MODEL_d66bdc5b884e4eab97acb9a1c1dd6820",
      "value": 2000
     }
    },
    "a8409923a5d24efc874cf1ab8d64bc4c": {
     "model_module": "@jupyter-widgets/controls",
     "model_module_version": "1.5.0",
     "model_name": "DescriptionStyleModel",
     "state": {
      "_model_module": "@jupyter-widgets/controls",
      "_model_module_version": "1.5.0",
      "_model_name": "DescriptionStyleModel",
      "_view_count": null,
      "_view_module": "@jupyter-widgets/base",
      "_view_module_version": "1.2.0",
      "_view_name": "StyleView",
      "description_width": ""
     }
    },
    "ae6eb8b9fdf24aa7858fd632d5b7b942": {
     "model_module": "@jupyter-widgets/controls",
     "model_module_version": "1.5.0",
     "model_name": "DescriptionStyleModel",
     "state": {
      "_model_module": "@jupyter-widgets/controls",
      "_model_module_version": "1.5.0",
      "_model_name": "DescriptionStyleModel",
      "_view_count": null,
      "_view_module": "@jupyter-widgets/base",
      "_view_module_version": "1.2.0",
      "_view_name": "StyleView",
      "description_width": ""
     }
    },
    "b481e336f57a4e10926e71bc19fc4c80": {
     "model_module": "@jupyter-widgets/controls",
     "model_module_version": "1.5.0",
     "model_name": "HTMLModel",
     "state": {
      "_dom_classes": [],
      "_model_module": "@jupyter-widgets/controls",
      "_model_module_version": "1.5.0",
      "_model_name": "HTMLModel",
      "_view_count": null,
      "_view_module": "@jupyter-widgets/controls",
      "_view_module_version": "1.5.0",
      "_view_name": "HTMLView",
      "description": "",
      "description_tooltip": null,
      "layout": "IPY_MODEL_f3681dc122424d479b4cd5c733c5e99f",
      "placeholder": "​",
      "style": "IPY_MODEL_d37c5911d7d14e7aafac3944cfe73e82",
      "value": " 2000/2000 [3:00:39&lt;00:00,  5.72s/it]"
     }
    },
    "b4f72053d66f46b2accc07e1ee2787a3": {
     "model_module": "@jupyter-widgets/base",
     "model_module_version": "1.2.0",
     "model_name": "LayoutModel",
     "state": {
      "_model_module": "@jupyter-widgets/base",
      "_model_module_version": "1.2.0",
      "_model_name": "LayoutModel",
      "_view_count": null,
      "_view_module": "@jupyter-widgets/base",
      "_view_module_version": "1.2.0",
      "_view_name": "LayoutView",
      "align_content": null,
      "align_items": null,
      "align_self": null,
      "border": null,
      "bottom": null,
      "display": null,
      "flex": null,
      "flex_flow": null,
      "grid_area": null,
      "grid_auto_columns": null,
      "grid_auto_flow": null,
      "grid_auto_rows": null,
      "grid_column": null,
      "grid_gap": null,
      "grid_row": null,
      "grid_template_areas": null,
      "grid_template_columns": null,
      "grid_template_rows": null,
      "height": null,
      "justify_content": null,
      "justify_items": null,
      "left": null,
      "margin": null,
      "max_height": null,
      "max_width": null,
      "min_height": null,
      "min_width": null,
      "object_fit": null,
      "object_position": null,
      "order": null,
      "overflow": null,
      "overflow_x": null,
      "overflow_y": null,
      "padding": null,
      "right": null,
      "top": null,
      "visibility": null,
      "width": null
     }
    },
    "b6c5d18acf954344b4abdd4d8c6ae11b": {
     "model_module": "@jupyter-widgets/base",
     "model_module_version": "1.2.0",
     "model_name": "LayoutModel",
     "state": {
      "_model_module": "@jupyter-widgets/base",
      "_model_module_version": "1.2.0",
      "_model_name": "LayoutModel",
      "_view_count": null,
      "_view_module": "@jupyter-widgets/base",
      "_view_module_version": "1.2.0",
      "_view_name": "LayoutView",
      "align_content": null,
      "align_items": null,
      "align_self": null,
      "border": null,
      "bottom": null,
      "display": null,
      "flex": null,
      "flex_flow": null,
      "grid_area": null,
      "grid_auto_columns": null,
      "grid_auto_flow": null,
      "grid_auto_rows": null,
      "grid_column": null,
      "grid_gap": null,
      "grid_row": null,
      "grid_template_areas": null,
      "grid_template_columns": null,
      "grid_template_rows": null,
      "height": null,
      "justify_content": null,
      "justify_items": null,
      "left": null,
      "margin": null,
      "max_height": null,
      "max_width": null,
      "min_height": null,
      "min_width": null,
      "object_fit": null,
      "object_position": null,
      "order": null,
      "overflow": null,
      "overflow_x": null,
      "overflow_y": null,
      "padding": null,
      "right": null,
      "top": null,
      "visibility": null,
      "width": null
     }
    },
    "b94f97767bbb4ca7b11135164446d6cb": {
     "model_module": "@jupyter-widgets/controls",
     "model_module_version": "1.5.0",
     "model_name": "HTMLModel",
     "state": {
      "_dom_classes": [],
      "_model_module": "@jupyter-widgets/controls",
      "_model_module_version": "1.5.0",
      "_model_name": "HTMLModel",
      "_view_count": null,
      "_view_module": "@jupyter-widgets/controls",
      "_view_module_version": "1.5.0",
      "_view_name": "HTMLView",
      "description": "",
      "description_tooltip": null,
      "layout": "IPY_MODEL_a585c36f009348e78c73a42dc7a1e9c8",
      "placeholder": "​",
      "style": "IPY_MODEL_36258e0fec4848229dfad5e27f5a7c72",
      "value": "100%"
     }
    },
    "bba9173691e443abbb5e94b782fcdb83": {
     "model_module": "@jupyter-widgets/controls",
     "model_module_version": "1.5.0",
     "model_name": "HTMLModel",
     "state": {
      "_dom_classes": [],
      "_model_module": "@jupyter-widgets/controls",
      "_model_module_version": "1.5.0",
      "_model_name": "HTMLModel",
      "_view_count": null,
      "_view_module": "@jupyter-widgets/controls",
      "_view_module_version": "1.5.0",
      "_view_name": "HTMLView",
      "description": "",
      "description_tooltip": null,
      "layout": "IPY_MODEL_779c4d80f05c47389b3bec6de13f7e67",
      "placeholder": "​",
      "style": "IPY_MODEL_e390a9d22b2f4dcaa999262f0ab2305d",
      "value": " 3/3 [13:36&lt;00:00, 274.33s/it]"
     }
    },
    "bd44048af75b4c9d86a88823cfa02448": {
     "model_module": "@jupyter-widgets/controls",
     "model_module_version": "1.5.0",
     "model_name": "HBoxModel",
     "state": {
      "_dom_classes": [],
      "_model_module": "@jupyter-widgets/controls",
      "_model_module_version": "1.5.0",
      "_model_name": "HBoxModel",
      "_view_count": null,
      "_view_module": "@jupyter-widgets/controls",
      "_view_module_version": "1.5.0",
      "_view_name": "HBoxView",
      "box_style": "",
      "children": [
       "IPY_MODEL_9e72103e02f4450599512fbbe45ecd95",
       "IPY_MODEL_98824b8546204238b69df9deaf8597c4",
       "IPY_MODEL_8c8f3d8f61434fbdaa6cc04287057506"
      ],
      "layout": "IPY_MODEL_ed12e6d093784b5cb0aae8a417258571"
     }
    },
    "bf76dd61a3e44621b436febc7b0a2443": {
     "model_module": "@jupyter-widgets/controls",
     "model_module_version": "1.5.0",
     "model_name": "HTMLModel",
     "state": {
      "_dom_classes": [],
      "_model_module": "@jupyter-widgets/controls",
      "_model_module_version": "1.5.0",
      "_model_name": "HTMLModel",
      "_view_count": null,
      "_view_module": "@jupyter-widgets/controls",
      "_view_module_version": "1.5.0",
      "_view_name": "HTMLView",
      "description": "",
      "description_tooltip": null,
      "layout": "IPY_MODEL_b4f72053d66f46b2accc07e1ee2787a3",
      "placeholder": "​",
      "style": "IPY_MODEL_f22cffb9f8f84e5588ee043e7f9b4cb0",
      "value": " 1605/2000 [1:29:40&lt;21:34,  3.28s/it]"
     }
    },
    "c0df6b081e1e4832913087290590cc3e": {
     "model_module": "@jupyter-widgets/base",
     "model_module_version": "1.2.0",
     "model_name": "LayoutModel",
     "state": {
      "_model_module": "@jupyter-widgets/base",
      "_model_module_version": "1.2.0",
      "_model_name": "LayoutModel",
      "_view_count": null,
      "_view_module": "@jupyter-widgets/base",
      "_view_module_version": "1.2.0",
      "_view_name": "LayoutView",
      "align_content": null,
      "align_items": null,
      "align_self": null,
      "border": null,
      "bottom": null,
      "display": null,
      "flex": null,
      "flex_flow": null,
      "grid_area": null,
      "grid_auto_columns": null,
      "grid_auto_flow": null,
      "grid_auto_rows": null,
      "grid_column": null,
      "grid_gap": null,
      "grid_row": null,
      "grid_template_areas": null,
      "grid_template_columns": null,
      "grid_template_rows": null,
      "height": null,
      "justify_content": null,
      "justify_items": null,
      "left": null,
      "margin": null,
      "max_height": null,
      "max_width": null,
      "min_height": null,
      "min_width": null,
      "object_fit": null,
      "object_position": null,
      "order": null,
      "overflow": null,
      "overflow_x": null,
      "overflow_y": null,
      "padding": null,
      "right": null,
      "top": null,
      "visibility": null,
      "width": null
     }
    },
    "c1833728b78d4ae78cacd7ee88403485": {
     "model_module": "@jupyter-widgets/controls",
     "model_module_version": "1.5.0",
     "model_name": "HTMLModel",
     "state": {
      "_dom_classes": [],
      "_model_module": "@jupyter-widgets/controls",
      "_model_module_version": "1.5.0",
      "_model_name": "HTMLModel",
      "_view_count": null,
      "_view_module": "@jupyter-widgets/controls",
      "_view_module_version": "1.5.0",
      "_view_name": "HTMLView",
      "description": "",
      "description_tooltip": null,
      "layout": "IPY_MODEL_c425669989b54e9a8b8d3130f9773318",
      "placeholder": "​",
      "style": "IPY_MODEL_956c9f10942c4dd9b08282eccc0a5528",
      "value": " 2000/2000 [04:24&lt;00:00,  8.75it/s]"
     }
    },
    "c27b07a45f4047c98e8a9c55f88c5c90": {
     "model_module": "@jupyter-widgets/base",
     "model_module_version": "1.2.0",
     "model_name": "LayoutModel",
     "state": {
      "_model_module": "@jupyter-widgets/base",
      "_model_module_version": "1.2.0",
      "_model_name": "LayoutModel",
      "_view_count": null,
      "_view_module": "@jupyter-widgets/base",
      "_view_module_version": "1.2.0",
      "_view_name": "LayoutView",
      "align_content": null,
      "align_items": null,
      "align_self": null,
      "border": null,
      "bottom": null,
      "display": null,
      "flex": null,
      "flex_flow": null,
      "grid_area": null,
      "grid_auto_columns": null,
      "grid_auto_flow": null,
      "grid_auto_rows": null,
      "grid_column": null,
      "grid_gap": null,
      "grid_row": null,
      "grid_template_areas": null,
      "grid_template_columns": null,
      "grid_template_rows": null,
      "height": null,
      "justify_content": null,
      "justify_items": null,
      "left": null,
      "margin": null,
      "max_height": null,
      "max_width": null,
      "min_height": null,
      "min_width": null,
      "object_fit": null,
      "object_position": null,
      "order": null,
      "overflow": null,
      "overflow_x": null,
      "overflow_y": null,
      "padding": null,
      "right": null,
      "top": null,
      "visibility": null,
      "width": null
     }
    },
    "c425669989b54e9a8b8d3130f9773318": {
     "model_module": "@jupyter-widgets/base",
     "model_module_version": "1.2.0",
     "model_name": "LayoutModel",
     "state": {
      "_model_module": "@jupyter-widgets/base",
      "_model_module_version": "1.2.0",
      "_model_name": "LayoutModel",
      "_view_count": null,
      "_view_module": "@jupyter-widgets/base",
      "_view_module_version": "1.2.0",
      "_view_name": "LayoutView",
      "align_content": null,
      "align_items": null,
      "align_self": null,
      "border": null,
      "bottom": null,
      "display": null,
      "flex": null,
      "flex_flow": null,
      "grid_area": null,
      "grid_auto_columns": null,
      "grid_auto_flow": null,
      "grid_auto_rows": null,
      "grid_column": null,
      "grid_gap": null,
      "grid_row": null,
      "grid_template_areas": null,
      "grid_template_columns": null,
      "grid_template_rows": null,
      "height": null,
      "justify_content": null,
      "justify_items": null,
      "left": null,
      "margin": null,
      "max_height": null,
      "max_width": null,
      "min_height": null,
      "min_width": null,
      "object_fit": null,
      "object_position": null,
      "order": null,
      "overflow": null,
      "overflow_x": null,
      "overflow_y": null,
      "padding": null,
      "right": null,
      "top": null,
      "visibility": null,
      "width": null
     }
    },
    "c58e5bcf493b4bf1926af68d80eb909e": {
     "model_module": "@jupyter-widgets/controls",
     "model_module_version": "1.5.0",
     "model_name": "HTMLModel",
     "state": {
      "_dom_classes": [],
      "_model_module": "@jupyter-widgets/controls",
      "_model_module_version": "1.5.0",
      "_model_name": "HTMLModel",
      "_view_count": null,
      "_view_module": "@jupyter-widgets/controls",
      "_view_module_version": "1.5.0",
      "_view_name": "HTMLView",
      "description": "",
      "description_tooltip": null,
      "layout": "IPY_MODEL_5bec14f1354b4a79924efb20c707bb18",
      "placeholder": "​",
      "style": "IPY_MODEL_55feadb13416498dbf17ab9de2bf9058",
      "value": "100%"
     }
    },
    "c5dd9bd5af874bcb850b4ba46a780e59": {
     "model_module": "@jupyter-widgets/controls",
     "model_module_version": "1.5.0",
     "model_name": "DescriptionStyleModel",
     "state": {
      "_model_module": "@jupyter-widgets/controls",
      "_model_module_version": "1.5.0",
      "_model_name": "DescriptionStyleModel",
      "_view_count": null,
      "_view_module": "@jupyter-widgets/base",
      "_view_module_version": "1.2.0",
      "_view_name": "StyleView",
      "description_width": ""
     }
    },
    "ccb4367cc08c4d10993c554f15f2ea0d": {
     "model_module": "@jupyter-widgets/base",
     "model_module_version": "1.2.0",
     "model_name": "LayoutModel",
     "state": {
      "_model_module": "@jupyter-widgets/base",
      "_model_module_version": "1.2.0",
      "_model_name": "LayoutModel",
      "_view_count": null,
      "_view_module": "@jupyter-widgets/base",
      "_view_module_version": "1.2.0",
      "_view_name": "LayoutView",
      "align_content": null,
      "align_items": null,
      "align_self": null,
      "border": null,
      "bottom": null,
      "display": null,
      "flex": null,
      "flex_flow": null,
      "grid_area": null,
      "grid_auto_columns": null,
      "grid_auto_flow": null,
      "grid_auto_rows": null,
      "grid_column": null,
      "grid_gap": null,
      "grid_row": null,
      "grid_template_areas": null,
      "grid_template_columns": null,
      "grid_template_rows": null,
      "height": null,
      "justify_content": null,
      "justify_items": null,
      "left": null,
      "margin": null,
      "max_height": null,
      "max_width": null,
      "min_height": null,
      "min_width": null,
      "object_fit": null,
      "object_position": null,
      "order": null,
      "overflow": null,
      "overflow_x": null,
      "overflow_y": null,
      "padding": null,
      "right": null,
      "top": null,
      "visibility": null,
      "width": null
     }
    },
    "cdc35ef3c0f744ee80afd415a5a72160": {
     "model_module": "@jupyter-widgets/controls",
     "model_module_version": "1.5.0",
     "model_name": "HTMLModel",
     "state": {
      "_dom_classes": [],
      "_model_module": "@jupyter-widgets/controls",
      "_model_module_version": "1.5.0",
      "_model_name": "HTMLModel",
      "_view_count": null,
      "_view_module": "@jupyter-widgets/controls",
      "_view_module_version": "1.5.0",
      "_view_name": "HTMLView",
      "description": "",
      "description_tooltip": null,
      "layout": "IPY_MODEL_77e7499e38b14e2a9180e189342833df",
      "placeholder": "​",
      "style": "IPY_MODEL_e157e94e9ad74777b0ca1a28f0b0c20d",
      "value": "100%"
     }
    },
    "d070d8b13ef646deb39140f132f63529": {
     "model_module": "@jupyter-widgets/base",
     "model_module_version": "1.2.0",
     "model_name": "LayoutModel",
     "state": {
      "_model_module": "@jupyter-widgets/base",
      "_model_module_version": "1.2.0",
      "_model_name": "LayoutModel",
      "_view_count": null,
      "_view_module": "@jupyter-widgets/base",
      "_view_module_version": "1.2.0",
      "_view_name": "LayoutView",
      "align_content": null,
      "align_items": null,
      "align_self": null,
      "border": null,
      "bottom": null,
      "display": null,
      "flex": null,
      "flex_flow": null,
      "grid_area": null,
      "grid_auto_columns": null,
      "grid_auto_flow": null,
      "grid_auto_rows": null,
      "grid_column": null,
      "grid_gap": null,
      "grid_row": null,
      "grid_template_areas": null,
      "grid_template_columns": null,
      "grid_template_rows": null,
      "height": null,
      "justify_content": null,
      "justify_items": null,
      "left": null,
      "margin": null,
      "max_height": null,
      "max_width": null,
      "min_height": null,
      "min_width": null,
      "object_fit": null,
      "object_position": null,
      "order": null,
      "overflow": null,
      "overflow_x": null,
      "overflow_y": null,
      "padding": null,
      "right": null,
      "top": null,
      "visibility": null,
      "width": null
     }
    },
    "d37c5911d7d14e7aafac3944cfe73e82": {
     "model_module": "@jupyter-widgets/controls",
     "model_module_version": "1.5.0",
     "model_name": "DescriptionStyleModel",
     "state": {
      "_model_module": "@jupyter-widgets/controls",
      "_model_module_version": "1.5.0",
      "_model_name": "DescriptionStyleModel",
      "_view_count": null,
      "_view_module": "@jupyter-widgets/base",
      "_view_module_version": "1.2.0",
      "_view_name": "StyleView",
      "description_width": ""
     }
    },
    "d4204b23c0474092b86c6debb47c651c": {
     "model_module": "@jupyter-widgets/base",
     "model_module_version": "1.2.0",
     "model_name": "LayoutModel",
     "state": {
      "_model_module": "@jupyter-widgets/base",
      "_model_module_version": "1.2.0",
      "_model_name": "LayoutModel",
      "_view_count": null,
      "_view_module": "@jupyter-widgets/base",
      "_view_module_version": "1.2.0",
      "_view_name": "LayoutView",
      "align_content": null,
      "align_items": null,
      "align_self": null,
      "border": null,
      "bottom": null,
      "display": null,
      "flex": null,
      "flex_flow": null,
      "grid_area": null,
      "grid_auto_columns": null,
      "grid_auto_flow": null,
      "grid_auto_rows": null,
      "grid_column": null,
      "grid_gap": null,
      "grid_row": null,
      "grid_template_areas": null,
      "grid_template_columns": null,
      "grid_template_rows": null,
      "height": null,
      "justify_content": null,
      "justify_items": null,
      "left": null,
      "margin": null,
      "max_height": null,
      "max_width": null,
      "min_height": null,
      "min_width": null,
      "object_fit": null,
      "object_position": null,
      "order": null,
      "overflow": null,
      "overflow_x": null,
      "overflow_y": null,
      "padding": null,
      "right": null,
      "top": null,
      "visibility": null,
      "width": null
     }
    },
    "d5bb11a0f69b41d685f0a347aa461dcf": {
     "model_module": "@jupyter-widgets/controls",
     "model_module_version": "1.5.0",
     "model_name": "HBoxModel",
     "state": {
      "_dom_classes": [],
      "_model_module": "@jupyter-widgets/controls",
      "_model_module_version": "1.5.0",
      "_model_name": "HBoxModel",
      "_view_count": null,
      "_view_module": "@jupyter-widgets/controls",
      "_view_module_version": "1.5.0",
      "_view_name": "HBoxView",
      "box_style": "",
      "children": [
       "IPY_MODEL_c58e5bcf493b4bf1926af68d80eb909e",
       "IPY_MODEL_4f382fa645b041b9b44cd6a29aef8c7e",
       "IPY_MODEL_351ab2585c944fe4aad0119ab9ea03f4"
      ],
      "layout": "IPY_MODEL_61959c8815d6451d888f179710dbd108"
     }
    },
    "d66bdc5b884e4eab97acb9a1c1dd6820": {
     "model_module": "@jupyter-widgets/controls",
     "model_module_version": "1.5.0",
     "model_name": "ProgressStyleModel",
     "state": {
      "_model_module": "@jupyter-widgets/controls",
      "_model_module_version": "1.5.0",
      "_model_name": "ProgressStyleModel",
      "_view_count": null,
      "_view_module": "@jupyter-widgets/base",
      "_view_module_version": "1.2.0",
      "_view_name": "StyleView",
      "bar_color": null,
      "description_width": ""
     }
    },
    "db369f0ee40e46d9910dde9435fe097b": {
     "model_module": "@jupyter-widgets/base",
     "model_module_version": "1.2.0",
     "model_name": "LayoutModel",
     "state": {
      "_model_module": "@jupyter-widgets/base",
      "_model_module_version": "1.2.0",
      "_model_name": "LayoutModel",
      "_view_count": null,
      "_view_module": "@jupyter-widgets/base",
      "_view_module_version": "1.2.0",
      "_view_name": "LayoutView",
      "align_content": null,
      "align_items": null,
      "align_self": null,
      "border": null,
      "bottom": null,
      "display": null,
      "flex": null,
      "flex_flow": null,
      "grid_area": null,
      "grid_auto_columns": null,
      "grid_auto_flow": null,
      "grid_auto_rows": null,
      "grid_column": null,
      "grid_gap": null,
      "grid_row": null,
      "grid_template_areas": null,
      "grid_template_columns": null,
      "grid_template_rows": null,
      "height": null,
      "justify_content": null,
      "justify_items": null,
      "left": null,
      "margin": null,
      "max_height": null,
      "max_width": null,
      "min_height": null,
      "min_width": null,
      "object_fit": null,
      "object_position": null,
      "order": null,
      "overflow": null,
      "overflow_x": null,
      "overflow_y": null,
      "padding": null,
      "right": null,
      "top": null,
      "visibility": null,
      "width": null
     }
    },
    "e05e95582b744bc4867f7dba2261c23e": {
     "model_module": "@jupyter-widgets/controls",
     "model_module_version": "1.5.0",
     "model_name": "HTMLModel",
     "state": {
      "_dom_classes": [],
      "_model_module": "@jupyter-widgets/controls",
      "_model_module_version": "1.5.0",
      "_model_name": "HTMLModel",
      "_view_count": null,
      "_view_module": "@jupyter-widgets/controls",
      "_view_module_version": "1.5.0",
      "_view_name": "HTMLView",
      "description": "",
      "description_tooltip": null,
      "layout": "IPY_MODEL_5213a77a237d41f2b9ffe69b2ba9fb31",
      "placeholder": "​",
      "style": "IPY_MODEL_a8409923a5d24efc874cf1ab8d64bc4c",
      "value": "100%"
     }
    },
    "e157e94e9ad74777b0ca1a28f0b0c20d": {
     "model_module": "@jupyter-widgets/controls",
     "model_module_version": "1.5.0",
     "model_name": "DescriptionStyleModel",
     "state": {
      "_model_module": "@jupyter-widgets/controls",
      "_model_module_version": "1.5.0",
      "_model_name": "DescriptionStyleModel",
      "_view_count": null,
      "_view_module": "@jupyter-widgets/base",
      "_view_module_version": "1.2.0",
      "_view_name": "StyleView",
      "description_width": ""
     }
    },
    "e390a9d22b2f4dcaa999262f0ab2305d": {
     "model_module": "@jupyter-widgets/controls",
     "model_module_version": "1.5.0",
     "model_name": "DescriptionStyleModel",
     "state": {
      "_model_module": "@jupyter-widgets/controls",
      "_model_module_version": "1.5.0",
      "_model_name": "DescriptionStyleModel",
      "_view_count": null,
      "_view_module": "@jupyter-widgets/base",
      "_view_module_version": "1.2.0",
      "_view_name": "StyleView",
      "description_width": ""
     }
    },
    "e4d540b739f44f5799cc6161a5926b8e": {
     "model_module": "@jupyter-widgets/controls",
     "model_module_version": "1.5.0",
     "model_name": "ProgressStyleModel",
     "state": {
      "_model_module": "@jupyter-widgets/controls",
      "_model_module_version": "1.5.0",
      "_model_name": "ProgressStyleModel",
      "_view_count": null,
      "_view_module": "@jupyter-widgets/base",
      "_view_module_version": "1.2.0",
      "_view_name": "StyleView",
      "bar_color": null,
      "description_width": ""
     }
    },
    "e634269807aa4f7b9ed77af1239d13c5": {
     "model_module": "@jupyter-widgets/controls",
     "model_module_version": "1.5.0",
     "model_name": "HBoxModel",
     "state": {
      "_dom_classes": [],
      "_model_module": "@jupyter-widgets/controls",
      "_model_module_version": "1.5.0",
      "_model_name": "HBoxModel",
      "_view_count": null,
      "_view_module": "@jupyter-widgets/controls",
      "_view_module_version": "1.5.0",
      "_view_name": "HBoxView",
      "box_style": "",
      "children": [
       "IPY_MODEL_b94f97767bbb4ca7b11135164446d6cb",
       "IPY_MODEL_63befeb87b7b4a5aa40b3efad107cc52",
       "IPY_MODEL_3696a6026d9949af92f22bb4ba2e8858"
      ],
      "layout": "IPY_MODEL_f8e276d2937b40cca6e62b13b6c3ae68"
     }
    },
    "e70ebbfe9349478cb393c2b7552e086e": {
     "model_module": "@jupyter-widgets/controls",
     "model_module_version": "1.5.0",
     "model_name": "DescriptionStyleModel",
     "state": {
      "_model_module": "@jupyter-widgets/controls",
      "_model_module_version": "1.5.0",
      "_model_name": "DescriptionStyleModel",
      "_view_count": null,
      "_view_module": "@jupyter-widgets/base",
      "_view_module_version": "1.2.0",
      "_view_name": "StyleView",
      "description_width": ""
     }
    },
    "e79c666983e14d9b8c32b4c17f270f5e": {
     "model_module": "@jupyter-widgets/controls",
     "model_module_version": "1.5.0",
     "model_name": "ProgressStyleModel",
     "state": {
      "_model_module": "@jupyter-widgets/controls",
      "_model_module_version": "1.5.0",
      "_model_name": "ProgressStyleModel",
      "_view_count": null,
      "_view_module": "@jupyter-widgets/base",
      "_view_module_version": "1.2.0",
      "_view_name": "StyleView",
      "bar_color": null,
      "description_width": ""
     }
    },
    "e7b880f0d08743389d75afd708af9422": {
     "model_module": "@jupyter-widgets/base",
     "model_module_version": "1.2.0",
     "model_name": "LayoutModel",
     "state": {
      "_model_module": "@jupyter-widgets/base",
      "_model_module_version": "1.2.0",
      "_model_name": "LayoutModel",
      "_view_count": null,
      "_view_module": "@jupyter-widgets/base",
      "_view_module_version": "1.2.0",
      "_view_name": "LayoutView",
      "align_content": null,
      "align_items": null,
      "align_self": null,
      "border": null,
      "bottom": null,
      "display": null,
      "flex": null,
      "flex_flow": null,
      "grid_area": null,
      "grid_auto_columns": null,
      "grid_auto_flow": null,
      "grid_auto_rows": null,
      "grid_column": null,
      "grid_gap": null,
      "grid_row": null,
      "grid_template_areas": null,
      "grid_template_columns": null,
      "grid_template_rows": null,
      "height": null,
      "justify_content": null,
      "justify_items": null,
      "left": null,
      "margin": null,
      "max_height": null,
      "max_width": null,
      "min_height": null,
      "min_width": null,
      "object_fit": null,
      "object_position": null,
      "order": null,
      "overflow": null,
      "overflow_x": null,
      "overflow_y": null,
      "padding": null,
      "right": null,
      "top": null,
      "visibility": null,
      "width": null
     }
    },
    "e810b66257de49ae83426035e335b76c": {
     "model_module": "@jupyter-widgets/controls",
     "model_module_version": "1.5.0",
     "model_name": "DescriptionStyleModel",
     "state": {
      "_model_module": "@jupyter-widgets/controls",
      "_model_module_version": "1.5.0",
      "_model_name": "DescriptionStyleModel",
      "_view_count": null,
      "_view_module": "@jupyter-widgets/base",
      "_view_module_version": "1.2.0",
      "_view_name": "StyleView",
      "description_width": ""
     }
    },
    "eb568ae98d894caab22f754182b65841": {
     "model_module": "@jupyter-widgets/base",
     "model_module_version": "1.2.0",
     "model_name": "LayoutModel",
     "state": {
      "_model_module": "@jupyter-widgets/base",
      "_model_module_version": "1.2.0",
      "_model_name": "LayoutModel",
      "_view_count": null,
      "_view_module": "@jupyter-widgets/base",
      "_view_module_version": "1.2.0",
      "_view_name": "LayoutView",
      "align_content": null,
      "align_items": null,
      "align_self": null,
      "border": null,
      "bottom": null,
      "display": null,
      "flex": null,
      "flex_flow": null,
      "grid_area": null,
      "grid_auto_columns": null,
      "grid_auto_flow": null,
      "grid_auto_rows": null,
      "grid_column": null,
      "grid_gap": null,
      "grid_row": null,
      "grid_template_areas": null,
      "grid_template_columns": null,
      "grid_template_rows": null,
      "height": null,
      "justify_content": null,
      "justify_items": null,
      "left": null,
      "margin": null,
      "max_height": null,
      "max_width": null,
      "min_height": null,
      "min_width": null,
      "object_fit": null,
      "object_position": null,
      "order": null,
      "overflow": null,
      "overflow_x": null,
      "overflow_y": null,
      "padding": null,
      "right": null,
      "top": null,
      "visibility": null,
      "width": null
     }
    },
    "eb6bb5b5f03645d5b75a5ac668d6135b": {
     "model_module": "@jupyter-widgets/controls",
     "model_module_version": "1.5.0",
     "model_name": "HBoxModel",
     "state": {
      "_dom_classes": [],
      "_model_module": "@jupyter-widgets/controls",
      "_model_module_version": "1.5.0",
      "_model_name": "HBoxModel",
      "_view_count": null,
      "_view_module": "@jupyter-widgets/controls",
      "_view_module_version": "1.5.0",
      "_view_name": "HBoxView",
      "box_style": "",
      "children": [
       "IPY_MODEL_e05e95582b744bc4867f7dba2261c23e",
       "IPY_MODEL_3281a1af052445f28ec1fa89a580d91a",
       "IPY_MODEL_bba9173691e443abbb5e94b782fcdb83"
      ],
      "layout": "IPY_MODEL_2dd1d7ee78144261af81aeb65f00ddb7"
     }
    },
    "ed12e6d093784b5cb0aae8a417258571": {
     "model_module": "@jupyter-widgets/base",
     "model_module_version": "1.2.0",
     "model_name": "LayoutModel",
     "state": {
      "_model_module": "@jupyter-widgets/base",
      "_model_module_version": "1.2.0",
      "_model_name": "LayoutModel",
      "_view_count": null,
      "_view_module": "@jupyter-widgets/base",
      "_view_module_version": "1.2.0",
      "_view_name": "LayoutView",
      "align_content": null,
      "align_items": null,
      "align_self": null,
      "border": null,
      "bottom": null,
      "display": null,
      "flex": null,
      "flex_flow": null,
      "grid_area": null,
      "grid_auto_columns": null,
      "grid_auto_flow": null,
      "grid_auto_rows": null,
      "grid_column": null,
      "grid_gap": null,
      "grid_row": null,
      "grid_template_areas": null,
      "grid_template_columns": null,
      "grid_template_rows": null,
      "height": null,
      "justify_content": null,
      "justify_items": null,
      "left": null,
      "margin": null,
      "max_height": null,
      "max_width": null,
      "min_height": null,
      "min_width": null,
      "object_fit": null,
      "object_position": null,
      "order": null,
      "overflow": null,
      "overflow_x": null,
      "overflow_y": null,
      "padding": null,
      "right": null,
      "top": null,
      "visibility": null,
      "width": null
     }
    },
    "f22cffb9f8f84e5588ee043e7f9b4cb0": {
     "model_module": "@jupyter-widgets/controls",
     "model_module_version": "1.5.0",
     "model_name": "DescriptionStyleModel",
     "state": {
      "_model_module": "@jupyter-widgets/controls",
      "_model_module_version": "1.5.0",
      "_model_name": "DescriptionStyleModel",
      "_view_count": null,
      "_view_module": "@jupyter-widgets/base",
      "_view_module_version": "1.2.0",
      "_view_name": "StyleView",
      "description_width": ""
     }
    },
    "f3681dc122424d479b4cd5c733c5e99f": {
     "model_module": "@jupyter-widgets/base",
     "model_module_version": "1.2.0",
     "model_name": "LayoutModel",
     "state": {
      "_model_module": "@jupyter-widgets/base",
      "_model_module_version": "1.2.0",
      "_model_name": "LayoutModel",
      "_view_count": null,
      "_view_module": "@jupyter-widgets/base",
      "_view_module_version": "1.2.0",
      "_view_name": "LayoutView",
      "align_content": null,
      "align_items": null,
      "align_self": null,
      "border": null,
      "bottom": null,
      "display": null,
      "flex": null,
      "flex_flow": null,
      "grid_area": null,
      "grid_auto_columns": null,
      "grid_auto_flow": null,
      "grid_auto_rows": null,
      "grid_column": null,
      "grid_gap": null,
      "grid_row": null,
      "grid_template_areas": null,
      "grid_template_columns": null,
      "grid_template_rows": null,
      "height": null,
      "justify_content": null,
      "justify_items": null,
      "left": null,
      "margin": null,
      "max_height": null,
      "max_width": null,
      "min_height": null,
      "min_width": null,
      "object_fit": null,
      "object_position": null,
      "order": null,
      "overflow": null,
      "overflow_x": null,
      "overflow_y": null,
      "padding": null,
      "right": null,
      "top": null,
      "visibility": null,
      "width": null
     }
    },
    "f860edf128d24469b8e5a39f37e33935": {
     "model_module": "@jupyter-widgets/controls",
     "model_module_version": "1.5.0",
     "model_name": "DescriptionStyleModel",
     "state": {
      "_model_module": "@jupyter-widgets/controls",
      "_model_module_version": "1.5.0",
      "_model_name": "DescriptionStyleModel",
      "_view_count": null,
      "_view_module": "@jupyter-widgets/base",
      "_view_module_version": "1.2.0",
      "_view_name": "StyleView",
      "description_width": ""
     }
    },
    "f8e276d2937b40cca6e62b13b6c3ae68": {
     "model_module": "@jupyter-widgets/base",
     "model_module_version": "1.2.0",
     "model_name": "LayoutModel",
     "state": {
      "_model_module": "@jupyter-widgets/base",
      "_model_module_version": "1.2.0",
      "_model_name": "LayoutModel",
      "_view_count": null,
      "_view_module": "@jupyter-widgets/base",
      "_view_module_version": "1.2.0",
      "_view_name": "LayoutView",
      "align_content": null,
      "align_items": null,
      "align_self": null,
      "border": null,
      "bottom": null,
      "display": null,
      "flex": null,
      "flex_flow": null,
      "grid_area": null,
      "grid_auto_columns": null,
      "grid_auto_flow": null,
      "grid_auto_rows": null,
      "grid_column": null,
      "grid_gap": null,
      "grid_row": null,
      "grid_template_areas": null,
      "grid_template_columns": null,
      "grid_template_rows": null,
      "height": null,
      "justify_content": null,
      "justify_items": null,
      "left": null,
      "margin": null,
      "max_height": null,
      "max_width": null,
      "min_height": null,
      "min_width": null,
      "object_fit": null,
      "object_position": null,
      "order": null,
      "overflow": null,
      "overflow_x": null,
      "overflow_y": null,
      "padding": null,
      "right": null,
      "top": null,
      "visibility": null,
      "width": null
     }
    },
    "f9174fc292fe428ba9d932afbe3d3bf9": {
     "model_module": "@jupyter-widgets/base",
     "model_module_version": "1.2.0",
     "model_name": "LayoutModel",
     "state": {
      "_model_module": "@jupyter-widgets/base",
      "_model_module_version": "1.2.0",
      "_model_name": "LayoutModel",
      "_view_count": null,
      "_view_module": "@jupyter-widgets/base",
      "_view_module_version": "1.2.0",
      "_view_name": "LayoutView",
      "align_content": null,
      "align_items": null,
      "align_self": null,
      "border": null,
      "bottom": null,
      "display": null,
      "flex": null,
      "flex_flow": null,
      "grid_area": null,
      "grid_auto_columns": null,
      "grid_auto_flow": null,
      "grid_auto_rows": null,
      "grid_column": null,
      "grid_gap": null,
      "grid_row": null,
      "grid_template_areas": null,
      "grid_template_columns": null,
      "grid_template_rows": null,
      "height": null,
      "justify_content": null,
      "justify_items": null,
      "left": null,
      "margin": null,
      "max_height": null,
      "max_width": null,
      "min_height": null,
      "min_width": null,
      "object_fit": null,
      "object_position": null,
      "order": null,
      "overflow": null,
      "overflow_x": null,
      "overflow_y": null,
      "padding": null,
      "right": null,
      "top": null,
      "visibility": null,
      "width": null
     }
    },
    "fcd6ca64c3554a9bb4cba24b69f7227f": {
     "model_module": "@jupyter-widgets/controls",
     "model_module_version": "1.5.0",
     "model_name": "FloatProgressModel",
     "state": {
      "_dom_classes": [],
      "_model_module": "@jupyter-widgets/controls",
      "_model_module_version": "1.5.0",
      "_model_name": "FloatProgressModel",
      "_view_count": null,
      "_view_module": "@jupyter-widgets/controls",
      "_view_module_version": "1.5.0",
      "_view_name": "ProgressView",
      "bar_style": "",
      "description": "",
      "description_tooltip": null,
      "layout": "IPY_MODEL_459b2ea62cc7413b86db6e3aa19bb3be",
      "max": 2000,
      "min": 0,
      "orientation": "horizontal",
      "style": "IPY_MODEL_466654322ce74ed59fa29034cc01a70b",
      "value": 1605
     }
    }
   }
  }
 },
 "nbformat": 4,
 "nbformat_minor": 0
}
